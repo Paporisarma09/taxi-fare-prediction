{
  "metadata": {
    "kernelspec": {
      "language": "python",
      "display_name": "Python 3",
      "name": "python3"
    },
    "language_info": {
      "name": "python",
      "version": "3.10.12",
      "mimetype": "text/x-python",
      "codemirror_mode": {
        "name": "ipython",
        "version": 3
      },
      "pygments_lexer": "ipython3",
      "nbconvert_exporter": "python",
      "file_extension": ".py"
    },
    "kaggle": {
      "accelerator": "none",
      "dataSources": [
        {
          "sourceId": 61246,
          "databundleVersionId": 6604167,
          "sourceType": "competition"
        }
      ],
      "dockerImageVersionId": 30558,
      "isInternetEnabled": true,
      "language": "python",
      "sourceType": "notebook",
      "isGpuEnabled": false
    },
    "colab": {
      "name": "22f1001482-notebook-t32023",
      "provenance": [],
      "include_colab_link": true
    }
  },
  "nbformat_minor": 0,
  "nbformat": 4,
  "cells": [
    {
      "cell_type": "markdown",
      "metadata": {
        "id": "view-in-github",
        "colab_type": "text"
      },
      "source": [
        "<a href=\"https://colab.research.google.com/github/Paporisarma09/taxi-fare-prediction/blob/main/22f1001482_notebook_t32023.ipynb\" target=\"_parent\"><img src=\"https://colab.research.google.com/assets/colab-badge.svg\" alt=\"Open In Colab\"/></a>"
      ]
    },
    {
      "source": [
        "\n",
        "# IMPORTANT: RUN THIS CELL IN ORDER TO IMPORT YOUR KAGGLE DATA SOURCES\n",
        "# TO THE CORRECT LOCATION (/kaggle/input) IN YOUR NOTEBOOK,\n",
        "# THEN FEEL FREE TO DELETE THIS CELL.\n",
        "# NOTE: THIS NOTEBOOK ENVIRONMENT DIFFERS FROM KAGGLE'S PYTHON\n",
        "# ENVIRONMENT SO THERE MAY BE MISSING LIBRARIES USED BY YOUR\n",
        "# NOTEBOOK.\n",
        "\n",
        "import os\n",
        "import sys\n",
        "from tempfile import NamedTemporaryFile\n",
        "from urllib.request import urlopen\n",
        "from urllib.parse import unquote, urlparse\n",
        "from urllib.error import HTTPError\n",
        "from zipfile import ZipFile\n",
        "import tarfile\n",
        "import shutil\n",
        "\n",
        "CHUNK_SIZE = 40960\n",
        "DATA_SOURCE_MAPPING = 'taxi-fare-guru-total-amount-prediction-challenge:https%3A%2F%2Fstorage.googleapis.com%2Fkaggle-competitions-data%2Fkaggle-v2%2F61246%2F6604167%2Fbundle%2Farchive.zip%3FX-Goog-Algorithm%3DGOOG4-RSA-SHA256%26X-Goog-Credential%3Dgcp-kaggle-com%2540kaggle-161607.iam.gserviceaccount.com%252F20240609%252Fauto%252Fstorage%252Fgoog4_request%26X-Goog-Date%3D20240609T154141Z%26X-Goog-Expires%3D259200%26X-Goog-SignedHeaders%3Dhost%26X-Goog-Signature%3D0a04a6f5f7c3c63b79d3712fcea74c643707163169a64227c34fef5231c2d212ba6264edb8486c5a9bf85fd9a03a41c27051107b97956e90e1d0348a2e194c46d1ea54e3bfff4989a50099a4e58379bf534e884a6ce15a5b4bb6442a5d80d17a8e82289682da1a4c10b835268f9228d187b5636bf2d84a05f8eec4cc3cf6c2918c39d239c81252bb811bbb5bb28dde0254189d8f3864ea24e2f1fd9f79c9e3ae61e30efaa23257d1996515c4172e5bbab33b16ead44f735e3a5958eec85aba25c39acd5ba068fd4ce7772da4d2cca4667236d9460e6896bdfddadf99e7c7c0ca58e0cf2f9b0bec4a7b832cfe553cbd3cb6b2ecf23f2a53c6576553fa2628469a'\n",
        "\n",
        "KAGGLE_INPUT_PATH='/kaggle/input'\n",
        "KAGGLE_WORKING_PATH='/kaggle/working'\n",
        "KAGGLE_SYMLINK='kaggle'\n",
        "\n",
        "!umount /kaggle/input/ 2> /dev/null\n",
        "shutil.rmtree('/kaggle/input', ignore_errors=True)\n",
        "os.makedirs(KAGGLE_INPUT_PATH, 0o777, exist_ok=True)\n",
        "os.makedirs(KAGGLE_WORKING_PATH, 0o777, exist_ok=True)\n",
        "\n",
        "try:\n",
        "  os.symlink(KAGGLE_INPUT_PATH, os.path.join(\"..\", 'input'), target_is_directory=True)\n",
        "except FileExistsError:\n",
        "  pass\n",
        "try:\n",
        "  os.symlink(KAGGLE_WORKING_PATH, os.path.join(\"..\", 'working'), target_is_directory=True)\n",
        "except FileExistsError:\n",
        "  pass\n",
        "\n",
        "for data_source_mapping in DATA_SOURCE_MAPPING.split(','):\n",
        "    directory, download_url_encoded = data_source_mapping.split(':')\n",
        "    download_url = unquote(download_url_encoded)\n",
        "    filename = urlparse(download_url).path\n",
        "    destination_path = os.path.join(KAGGLE_INPUT_PATH, directory)\n",
        "    try:\n",
        "        with urlopen(download_url) as fileres, NamedTemporaryFile() as tfile:\n",
        "            total_length = fileres.headers['content-length']\n",
        "            print(f'Downloading {directory}, {total_length} bytes compressed')\n",
        "            dl = 0\n",
        "            data = fileres.read(CHUNK_SIZE)\n",
        "            while len(data) > 0:\n",
        "                dl += len(data)\n",
        "                tfile.write(data)\n",
        "                done = int(50 * dl / int(total_length))\n",
        "                sys.stdout.write(f\"\\r[{'=' * done}{' ' * (50-done)}] {dl} bytes downloaded\")\n",
        "                sys.stdout.flush()\n",
        "                data = fileres.read(CHUNK_SIZE)\n",
        "            if filename.endswith('.zip'):\n",
        "              with ZipFile(tfile) as zfile:\n",
        "                zfile.extractall(destination_path)\n",
        "            else:\n",
        "              with tarfile.open(tfile.name) as tarfile:\n",
        "                tarfile.extractall(destination_path)\n",
        "            print(f'\\nDownloaded and uncompressed: {directory}')\n",
        "    except HTTPError as e:\n",
        "        print(f'Failed to load (likely expired) {download_url} to path {destination_path}')\n",
        "        continue\n",
        "    except OSError as e:\n",
        "        print(f'Failed to load {download_url} to path {destination_path}')\n",
        "        continue\n",
        "\n",
        "print('Data source import complete.')\n"
      ],
      "metadata": {
        "id": "im-VjkZtqbg_"
      },
      "cell_type": "code",
      "outputs": [],
      "execution_count": null
    },
    {
      "cell_type": "code",
      "source": [
        "# This Python 3 environment comes with many helpful analytics libraries installed\n",
        "# It is defined by the kaggle/python Docker image: https://github.com/kaggle/docker-python\n",
        "# For example, here's several helpful packages to load\n",
        "\n",
        "import numpy as np # linear algebra\n",
        "import pandas as pd # data processing, CSV file I/O (e.g. pd.read_csv)\n",
        "\n",
        "# Input data files are available in the read-only \"../input/\" directory\n",
        "# For example, running this (by clicking run or pressing Shift+Enter) will list all files under the input directory\n",
        "\n",
        "import os\n",
        "for dirname, _, filenames in os.walk('/kaggle/input'):\n",
        "    for filename in filenames:\n",
        "        print(os.path.join(dirname, filename))\n",
        "\n",
        "# You can write up to 20GB to the current directory (/kaggle/working/) that gets preserved as output when you create a version using \"Save & Run All\"\n",
        "# You can also write temporary files to /kaggle/temp/, but they won't be saved outside of the current session"
      ],
      "metadata": {
        "_uuid": "8f2839f25d086af736a60e9eeb907d3b93b6e0e5",
        "_cell_guid": "b1076dfc-b9ad-4769-8c92-a6c4dae69d19",
        "execution": {
          "iopub.status.busy": "2023-11-28T12:24:47.899238Z",
          "iopub.execute_input": "2023-11-28T12:24:47.900052Z",
          "iopub.status.idle": "2023-11-28T12:24:48.358466Z",
          "shell.execute_reply.started": "2023-11-28T12:24:47.900013Z",
          "shell.execute_reply": "2023-11-28T12:24:48.357212Z"
        },
        "trusted": true,
        "id": "WrXQ5p4xqbhC"
      },
      "execution_count": null,
      "outputs": []
    },
    {
      "cell_type": "code",
      "source": [
        "sample=pd.read_csv('/kaggle/input/taxi-fare-guru-total-amount-prediction-challenge/sample.csv.csv')\n",
        "sample.head()"
      ],
      "metadata": {
        "execution": {
          "iopub.status.busy": "2023-11-28T12:24:48.360564Z",
          "iopub.execute_input": "2023-11-28T12:24:48.361184Z",
          "iopub.status.idle": "2023-11-28T12:24:48.39588Z",
          "shell.execute_reply.started": "2023-11-28T12:24:48.361028Z",
          "shell.execute_reply": "2023-11-28T12:24:48.394753Z"
        },
        "trusted": true,
        "id": "xqacBVwtqbhD"
      },
      "execution_count": null,
      "outputs": []
    },
    {
      "cell_type": "markdown",
      "source": [
        "# Milestone1"
      ],
      "metadata": {
        "id": "9DMqwO0sqbhD"
      }
    },
    {
      "cell_type": "markdown",
      "source": [
        "# Import libraries"
      ],
      "metadata": {
        "id": "rWuQrzVMqbhF"
      }
    },
    {
      "cell_type": "code",
      "source": [
        "import pandas as pd\n",
        "import numpy as np\n",
        "import seaborn as sns\n",
        "import matplotlib.pyplot as plt\n",
        "from sklearn.dummy import DummyRegressor\n",
        "from sklearn.model_selection import train_test_split\n",
        "from sklearn.model_selection import GridSearchCV,cross_validate\n",
        "from sklearn.preprocessing import MinMaxScaler,OneHotEncoder,OrdinalEncoder,MaxAbsScaler,PolynomialFeatures,StandardScaler\n",
        "from sklearn.impute import SimpleImputer\n",
        "from sklearn.linear_model import LinearRegression, SGDRegressor,Ridge,Lasso,RidgeCV,LassoCV,ElasticNetCV\n",
        "from sklearn.pipeline import Pipeline,make_pipeline\n",
        "from sklearn.metrics import mean_squared_error,r2_score,mean_absolute_error,median_absolute_error\n",
        "from sklearn.tree import DecisionTreeRegressor,ExtraTreeRegressor\n",
        "from sklearn.ensemble import RandomForestRegressor,BaggingRegressor,AdaBoostRegressor\n",
        "from sklearn.svm import SVR,LinearSVR\n",
        "from sklearn.neighbors import KNeighborsRegressor\n",
        "from sklearn.decomposition import PCA\n"
      ],
      "metadata": {
        "execution": {
          "iopub.status.busy": "2023-11-28T12:24:48.397305Z",
          "iopub.execute_input": "2023-11-28T12:24:48.397878Z",
          "iopub.status.idle": "2023-11-28T12:24:50.577517Z",
          "shell.execute_reply.started": "2023-11-28T12:24:48.397845Z",
          "shell.execute_reply": "2023-11-28T12:24:50.576284Z"
        },
        "trusted": true,
        "id": "ST3nyeFiqbhF"
      },
      "execution_count": null,
      "outputs": []
    },
    {
      "cell_type": "code",
      "source": [
        "from sklearn.model_selection import ShuffleSplit\n",
        "cv = ShuffleSplit(n_splits= 10, test_size=0.2, random_state=42)"
      ],
      "metadata": {
        "execution": {
          "iopub.status.busy": "2023-11-28T12:24:50.580763Z",
          "iopub.execute_input": "2023-11-28T12:24:50.581177Z",
          "iopub.status.idle": "2023-11-28T12:24:50.586588Z",
          "shell.execute_reply.started": "2023-11-28T12:24:50.581146Z",
          "shell.execute_reply": "2023-11-28T12:24:50.585512Z"
        },
        "trusted": true,
        "id": "CyxtuGtnqbhG"
      },
      "execution_count": null,
      "outputs": []
    },
    {
      "cell_type": "markdown",
      "source": [
        "# Loading the Datasets"
      ],
      "metadata": {
        "id": "WPOg1kyyqbhG"
      }
    },
    {
      "cell_type": "code",
      "source": [
        "train_data= pd.read_csv('/kaggle/input/taxi-fare-guru-total-amount-prediction-challenge/train.csv')\n",
        "test_data=pd.read_csv('/kaggle/input/taxi-fare-guru-total-amount-prediction-challenge/test.csv')"
      ],
      "metadata": {
        "execution": {
          "iopub.status.busy": "2023-11-28T12:24:50.588281Z",
          "iopub.execute_input": "2023-11-28T12:24:50.589249Z",
          "iopub.status.idle": "2023-11-28T12:24:51.865833Z",
          "shell.execute_reply.started": "2023-11-28T12:24:50.589195Z",
          "shell.execute_reply": "2023-11-28T12:24:51.864498Z"
        },
        "trusted": true,
        "id": "KqpPVWLaqbhH"
      },
      "execution_count": null,
      "outputs": []
    },
    {
      "cell_type": "markdown",
      "source": [
        "# EDA\n",
        "# Insights from EDA:\n",
        "1. train data shape is (175000, 17) and test data shape is(50000, 16).\n",
        "2. there are 13 numerical features and 4 are categorical features in train data.\n",
        "3. there are 12 numerical features and 4 are categorical features in train data.\n",
        "4. 5 features are having null vlues out of them 2 are categorical and 3 of them numerical in train and test data.\n",
        "5. there is no duplicate values in train and test data.\n",
        "6. In the categorical feature 'store_and_fwd_flag',there are three types of values. Those are 'Y' means yes, 'N' means no and 'NAN'. Out of all three 'N' frequencies are more.\n",
        "7. In the categorical feature 'payment_type',there are 5 types of values. Those are 'Credit Card', 'Cash', 'Wallet', 'UPI', 'unknown'. Out of all 5, 'Credit Card' frequencies are more.\n",
        "8. 'passenger_count', 'congestion_surcharge', 'Airport_fee' are having missing values."
      ],
      "metadata": {
        "id": "5NGxDOn5qbhH"
      }
    },
    {
      "cell_type": "markdown",
      "source": [
        "# Checking the heads of each dataset to get rough idea about them"
      ],
      "metadata": {
        "id": "HUP8rexcqbhH"
      }
    },
    {
      "cell_type": "code",
      "source": [
        "train_data.head()"
      ],
      "metadata": {
        "execution": {
          "iopub.status.busy": "2023-11-28T12:24:51.867717Z",
          "iopub.execute_input": "2023-11-28T12:24:51.868611Z",
          "iopub.status.idle": "2023-11-28T12:24:51.907004Z",
          "shell.execute_reply.started": "2023-11-28T12:24:51.868563Z",
          "shell.execute_reply": "2023-11-28T12:24:51.905648Z"
        },
        "trusted": true,
        "id": "IiIE5ORjqbhH"
      },
      "execution_count": null,
      "outputs": []
    },
    {
      "cell_type": "code",
      "source": [
        "test_data.head()"
      ],
      "metadata": {
        "execution": {
          "iopub.status.busy": "2023-11-28T12:24:51.908963Z",
          "iopub.execute_input": "2023-11-28T12:24:51.91005Z",
          "iopub.status.idle": "2023-11-28T12:24:51.9489Z",
          "shell.execute_reply.started": "2023-11-28T12:24:51.909995Z",
          "shell.execute_reply": "2023-11-28T12:24:51.947385Z"
        },
        "trusted": true,
        "id": "srv7rAwLqbhH"
      },
      "execution_count": null,
      "outputs": []
    },
    {
      "cell_type": "markdown",
      "source": [
        "# Checking the shape of each dataset"
      ],
      "metadata": {
        "id": "EhdjMBtRqbhH"
      }
    },
    {
      "cell_type": "code",
      "source": [
        "train_data.shape"
      ],
      "metadata": {
        "execution": {
          "iopub.status.busy": "2023-11-28T12:24:51.951131Z",
          "iopub.execute_input": "2023-11-28T12:24:51.951998Z",
          "iopub.status.idle": "2023-11-28T12:24:51.964317Z",
          "shell.execute_reply.started": "2023-11-28T12:24:51.951945Z",
          "shell.execute_reply": "2023-11-28T12:24:51.963476Z"
        },
        "trusted": true,
        "id": "p59ZiWbXqbhI"
      },
      "execution_count": null,
      "outputs": []
    },
    {
      "cell_type": "code",
      "source": [
        "test_data.shape"
      ],
      "metadata": {
        "execution": {
          "iopub.status.busy": "2023-11-28T12:24:51.96578Z",
          "iopub.execute_input": "2023-11-28T12:24:51.966939Z",
          "iopub.status.idle": "2023-11-28T12:24:51.975499Z",
          "shell.execute_reply.started": "2023-11-28T12:24:51.966893Z",
          "shell.execute_reply": "2023-11-28T12:24:51.973941Z"
        },
        "trusted": true,
        "id": "6w-GjvnYqbhI"
      },
      "execution_count": null,
      "outputs": []
    },
    {
      "cell_type": "markdown",
      "source": [
        "# Checking the info of each dataset for getting the no of rows,null values,datatype of each columns"
      ],
      "metadata": {
        "id": "d3DztcfTqbhI"
      }
    },
    {
      "cell_type": "code",
      "source": [
        "train_data.info()"
      ],
      "metadata": {
        "execution": {
          "iopub.status.busy": "2023-11-28T12:24:51.982913Z",
          "iopub.execute_input": "2023-11-28T12:24:51.983745Z",
          "iopub.status.idle": "2023-11-28T12:24:52.093499Z",
          "shell.execute_reply.started": "2023-11-28T12:24:51.983696Z",
          "shell.execute_reply": "2023-11-28T12:24:52.092242Z"
        },
        "trusted": true,
        "id": "9GF6Vd-IqbhI"
      },
      "execution_count": null,
      "outputs": []
    },
    {
      "cell_type": "code",
      "source": [
        "test_data.info()"
      ],
      "metadata": {
        "execution": {
          "iopub.status.busy": "2023-11-28T12:24:52.095353Z",
          "iopub.execute_input": "2023-11-28T12:24:52.09613Z",
          "iopub.status.idle": "2023-11-28T12:24:52.134747Z",
          "shell.execute_reply.started": "2023-11-28T12:24:52.096084Z",
          "shell.execute_reply": "2023-11-28T12:24:52.133456Z"
        },
        "trusted": true,
        "id": "23CDgQV1qbhI"
      },
      "execution_count": null,
      "outputs": []
    },
    {
      "cell_type": "markdown",
      "source": [
        " # Checking the null values in every column of each dataset which we need to handle"
      ],
      "metadata": {
        "id": "24Gzv9ZGqbhI"
      }
    },
    {
      "cell_type": "code",
      "source": [
        "train_data.isnull().sum()"
      ],
      "metadata": {
        "execution": {
          "iopub.status.busy": "2023-11-28T12:24:52.136688Z",
          "iopub.execute_input": "2023-11-28T12:24:52.137487Z",
          "iopub.status.idle": "2023-11-28T12:24:52.236121Z",
          "shell.execute_reply.started": "2023-11-28T12:24:52.137438Z",
          "shell.execute_reply": "2023-11-28T12:24:52.234502Z"
        },
        "trusted": true,
        "id": "Veoj_y--qbhI"
      },
      "execution_count": null,
      "outputs": []
    },
    {
      "cell_type": "code",
      "source": [
        "test_data.isnull().sum()"
      ],
      "metadata": {
        "execution": {
          "iopub.status.busy": "2023-11-28T12:24:52.239684Z",
          "iopub.execute_input": "2023-11-28T12:24:52.240158Z",
          "iopub.status.idle": "2023-11-28T12:24:52.272304Z",
          "shell.execute_reply.started": "2023-11-28T12:24:52.240124Z",
          "shell.execute_reply": "2023-11-28T12:24:52.271039Z"
        },
        "trusted": true,
        "id": "mUJu2l0qqbhI"
      },
      "execution_count": null,
      "outputs": []
    },
    {
      "cell_type": "code",
      "source": [
        "train_data.describe()"
      ],
      "metadata": {
        "execution": {
          "iopub.status.busy": "2023-11-28T12:24:52.274161Z",
          "iopub.execute_input": "2023-11-28T12:24:52.275171Z",
          "iopub.status.idle": "2023-11-28T12:24:52.421555Z",
          "shell.execute_reply.started": "2023-11-28T12:24:52.275119Z",
          "shell.execute_reply": "2023-11-28T12:24:52.420222Z"
        },
        "trusted": true,
        "id": "c1mhq_D8qbhI"
      },
      "execution_count": null,
      "outputs": []
    },
    {
      "cell_type": "code",
      "source": [
        "test_data.describe()"
      ],
      "metadata": {
        "execution": {
          "iopub.status.busy": "2023-11-28T12:24:52.423331Z",
          "iopub.execute_input": "2023-11-28T12:24:52.423894Z",
          "iopub.status.idle": "2023-11-28T12:24:52.501676Z",
          "shell.execute_reply.started": "2023-11-28T12:24:52.423854Z",
          "shell.execute_reply": "2023-11-28T12:24:52.500497Z"
        },
        "trusted": true,
        "id": "0omfGANQqbhI"
      },
      "execution_count": null,
      "outputs": []
    },
    {
      "cell_type": "markdown",
      "source": [
        "# Checking Duplicate values in Data"
      ],
      "metadata": {
        "id": "b1AoQzj-qbhJ"
      }
    },
    {
      "cell_type": "code",
      "source": [
        "train_data.duplicated().sum()"
      ],
      "metadata": {
        "execution": {
          "iopub.status.busy": "2023-11-28T12:24:52.50327Z",
          "iopub.execute_input": "2023-11-28T12:24:52.504534Z",
          "iopub.status.idle": "2023-11-28T12:24:52.749112Z",
          "shell.execute_reply.started": "2023-11-28T12:24:52.504489Z",
          "shell.execute_reply": "2023-11-28T12:24:52.747899Z"
        },
        "trusted": true,
        "id": "5FzNlN_rqbhJ"
      },
      "execution_count": null,
      "outputs": []
    },
    {
      "cell_type": "code",
      "source": [
        "test_data.duplicated().sum()"
      ],
      "metadata": {
        "execution": {
          "iopub.status.busy": "2023-11-28T12:24:52.752342Z",
          "iopub.execute_input": "2023-11-28T12:24:52.752808Z",
          "iopub.status.idle": "2023-11-28T12:24:52.819738Z",
          "shell.execute_reply.started": "2023-11-28T12:24:52.752772Z",
          "shell.execute_reply": "2023-11-28T12:24:52.818481Z"
        },
        "trusted": true,
        "id": "Edtz8hQdqbhJ"
      },
      "execution_count": null,
      "outputs": []
    },
    {
      "cell_type": "markdown",
      "source": [
        "# Getting the idea about the data and their distributions through histogram"
      ],
      "metadata": {
        "id": "DM4hMF6PqbhJ"
      }
    },
    {
      "cell_type": "code",
      "source": [
        "train_data.hist(edgecolor = 'blue',bins = 60, figsize=(30,20))\n",
        "plt.subplots_adjust(hspace = 0.5,wspace = 0.3)\n",
        "plt.show()"
      ],
      "metadata": {
        "execution": {
          "iopub.status.busy": "2023-11-28T12:24:52.821387Z",
          "iopub.execute_input": "2023-11-28T12:24:52.822185Z",
          "iopub.status.idle": "2023-11-28T12:24:57.788708Z",
          "shell.execute_reply.started": "2023-11-28T12:24:52.822133Z",
          "shell.execute_reply": "2023-11-28T12:24:57.787311Z"
        },
        "trusted": true,
        "id": "bmdtvP1aqbhJ"
      },
      "execution_count": null,
      "outputs": []
    },
    {
      "cell_type": "code",
      "source": [
        "train_data['store_and_fwd_flag'].unique()"
      ],
      "metadata": {
        "execution": {
          "iopub.status.busy": "2023-11-28T12:24:57.790329Z",
          "iopub.execute_input": "2023-11-28T12:24:57.791546Z",
          "iopub.status.idle": "2023-11-28T12:24:57.814598Z",
          "shell.execute_reply.started": "2023-11-28T12:24:57.791493Z",
          "shell.execute_reply": "2023-11-28T12:24:57.813481Z"
        },
        "trusted": true,
        "id": "ySCr-J2lqbhJ"
      },
      "execution_count": null,
      "outputs": []
    },
    {
      "cell_type": "code",
      "source": [
        "print(len(train_data[train_data['store_and_fwd_flag'] == 'Y']))\n",
        "print(len(train_data[train_data['store_and_fwd_flag'] == 'N']))\n",
        "print(len(train_data[train_data['store_and_fwd_flag'].isna()]))"
      ],
      "metadata": {
        "execution": {
          "iopub.status.busy": "2023-11-28T12:24:57.81626Z",
          "iopub.execute_input": "2023-11-28T12:24:57.817359Z",
          "iopub.status.idle": "2023-11-28T12:24:57.938297Z",
          "shell.execute_reply.started": "2023-11-28T12:24:57.817323Z",
          "shell.execute_reply": "2023-11-28T12:24:57.937436Z"
        },
        "trusted": true,
        "id": "uN8VVG6lqbhJ"
      },
      "execution_count": null,
      "outputs": []
    },
    {
      "cell_type": "code",
      "source": [
        "train_data['payment_type'].unique()"
      ],
      "metadata": {
        "execution": {
          "iopub.status.busy": "2023-11-28T12:24:57.939444Z",
          "iopub.execute_input": "2023-11-28T12:24:57.939967Z",
          "iopub.status.idle": "2023-11-28T12:24:57.965471Z",
          "shell.execute_reply.started": "2023-11-28T12:24:57.939936Z",
          "shell.execute_reply": "2023-11-28T12:24:57.964052Z"
        },
        "trusted": true,
        "id": "rZRooOCHqbhJ"
      },
      "execution_count": null,
      "outputs": []
    },
    {
      "cell_type": "code",
      "source": [
        "print(len(train_data[train_data['payment_type'] == 'Credit Card']))\n",
        "print(len(train_data[train_data['payment_type'] == 'Cash']))\n",
        "print(len(train_data[train_data['payment_type'] == 'Wallet']))\n",
        "print(len(train_data[train_data['payment_type'] == 'UPI']))\n",
        "print(len(train_data[train_data['payment_type'] == 'unknown']))\n"
      ],
      "metadata": {
        "execution": {
          "iopub.status.busy": "2023-11-28T12:24:57.966742Z",
          "iopub.execute_input": "2023-11-28T12:24:57.96767Z",
          "iopub.status.idle": "2023-11-28T12:24:58.166434Z",
          "shell.execute_reply.started": "2023-11-28T12:24:57.967634Z",
          "shell.execute_reply": "2023-11-28T12:24:58.165201Z"
        },
        "trusted": true,
        "id": "c8TRxgoRqbhJ"
      },
      "execution_count": null,
      "outputs": []
    },
    {
      "cell_type": "code",
      "source": [
        "sns.catplot(data=train_data,x='payment_type',kind='count')\n",
        "plt.show()"
      ],
      "metadata": {
        "execution": {
          "iopub.status.busy": "2023-11-28T12:24:58.1683Z",
          "iopub.execute_input": "2023-11-28T12:24:58.168779Z",
          "iopub.status.idle": "2023-11-28T12:24:59.114061Z",
          "shell.execute_reply.started": "2023-11-28T12:24:58.168738Z",
          "shell.execute_reply": "2023-11-28T12:24:59.11284Z"
        },
        "trusted": true,
        "id": "y4NKm7cyqbhJ"
      },
      "execution_count": null,
      "outputs": []
    },
    {
      "cell_type": "code",
      "source": [
        "sns.catplot(data=train_data,x='store_and_fwd_flag',kind='count')\n",
        "plt.show()"
      ],
      "metadata": {
        "execution": {
          "iopub.status.busy": "2023-11-28T12:24:59.115614Z",
          "iopub.execute_input": "2023-11-28T12:24:59.115942Z",
          "iopub.status.idle": "2023-11-28T12:25:00.001366Z",
          "shell.execute_reply.started": "2023-11-28T12:24:59.115913Z",
          "shell.execute_reply": "2023-11-28T12:25:00.000199Z"
        },
        "trusted": true,
        "id": "o68lXvxfqbhK"
      },
      "execution_count": null,
      "outputs": []
    },
    {
      "cell_type": "markdown",
      "source": [
        "# Split the dataset in training and validation sets with train_test_split"
      ],
      "metadata": {
        "id": "S22-DzdRqbhK"
      }
    },
    {
      "cell_type": "code",
      "source": [
        "X = train_data.drop(columns=['total_amount'])\n",
        "y=train_data['total_amount']"
      ],
      "metadata": {
        "execution": {
          "iopub.status.busy": "2023-11-28T12:25:00.002866Z",
          "iopub.execute_input": "2023-11-28T12:25:00.003225Z",
          "iopub.status.idle": "2023-11-28T12:25:00.021999Z",
          "shell.execute_reply.started": "2023-11-28T12:25:00.003194Z",
          "shell.execute_reply": "2023-11-28T12:25:00.020725Z"
        },
        "trusted": true,
        "id": "o47mkizgqbhK"
      },
      "execution_count": null,
      "outputs": []
    },
    {
      "cell_type": "code",
      "source": [
        "X_train, X_val,y_train, y_val = train_test_split(X, y, test_size=0.2,random_state=42)"
      ],
      "metadata": {
        "execution": {
          "iopub.status.busy": "2023-11-28T12:25:00.024686Z",
          "iopub.execute_input": "2023-11-28T12:25:00.025484Z",
          "iopub.status.idle": "2023-11-28T12:25:00.105819Z",
          "shell.execute_reply.started": "2023-11-28T12:25:00.025435Z",
          "shell.execute_reply": "2023-11-28T12:25:00.104574Z"
        },
        "trusted": true,
        "id": "2AvdNukjqbhK"
      },
      "execution_count": null,
      "outputs": []
    },
    {
      "cell_type": "markdown",
      "source": [
        "# Feature Engeneering"
      ],
      "metadata": {
        "id": "utuKOXdpqbhK"
      }
    },
    {
      "cell_type": "code",
      "source": [
        "X_train['travel_time'] = ((pd.to_datetime(X_train['tpep_dropoff_datetime'])- pd.to_datetime(X_train['tpep_pickup_datetime'])).dt.seconds)/60\n",
        "X_train = X_train.drop(columns = ['tpep_dropoff_datetime','tpep_pickup_datetime'])"
      ],
      "metadata": {
        "execution": {
          "iopub.status.busy": "2023-11-28T12:25:00.107288Z",
          "iopub.execute_input": "2023-11-28T12:25:00.107656Z",
          "iopub.status.idle": "2023-11-28T12:25:00.282061Z",
          "shell.execute_reply.started": "2023-11-28T12:25:00.107625Z",
          "shell.execute_reply": "2023-11-28T12:25:00.280954Z"
        },
        "trusted": true,
        "id": "iuhwopNXqbhO"
      },
      "execution_count": null,
      "outputs": []
    },
    {
      "cell_type": "code",
      "source": [
        "X_val['travel_time'] = ((pd.to_datetime(X_val['tpep_dropoff_datetime'])- pd.to_datetime(X_val['tpep_pickup_datetime'])).dt.seconds)/60\n",
        "X_val = X_val.drop(columns = ['tpep_dropoff_datetime','tpep_pickup_datetime'])"
      ],
      "metadata": {
        "execution": {
          "iopub.status.busy": "2023-11-28T12:25:00.292116Z",
          "iopub.execute_input": "2023-11-28T12:25:00.29256Z",
          "iopub.status.idle": "2023-11-28T12:25:00.346825Z",
          "shell.execute_reply.started": "2023-11-28T12:25:00.292525Z",
          "shell.execute_reply": "2023-11-28T12:25:00.345604Z"
        },
        "trusted": true,
        "id": "Ft9ab7XwqbhO"
      },
      "execution_count": null,
      "outputs": []
    },
    {
      "cell_type": "code",
      "source": [
        "Num_cols = X_train.select_dtypes(include = 'number').columns.to_list()\n",
        "print(Num_cols)"
      ],
      "metadata": {
        "execution": {
          "iopub.status.busy": "2023-11-28T12:25:00.348282Z",
          "iopub.execute_input": "2023-11-28T12:25:00.3487Z",
          "iopub.status.idle": "2023-11-28T12:25:00.371631Z",
          "shell.execute_reply.started": "2023-11-28T12:25:00.348667Z",
          "shell.execute_reply": "2023-11-28T12:25:00.370246Z"
        },
        "trusted": true,
        "id": "KfGwWm6GqbhO"
      },
      "execution_count": null,
      "outputs": []
    },
    {
      "cell_type": "code",
      "source": [
        "Cat_cols = X_train.select_dtypes(exclude = 'number').columns.to_list()\n",
        "print(Cat_cols)"
      ],
      "metadata": {
        "execution": {
          "iopub.status.busy": "2023-11-28T12:25:00.372939Z",
          "iopub.execute_input": "2023-11-28T12:25:00.373264Z",
          "iopub.status.idle": "2023-11-28T12:25:00.382807Z",
          "shell.execute_reply.started": "2023-11-28T12:25:00.373236Z",
          "shell.execute_reply": "2023-11-28T12:25:00.381557Z"
        },
        "trusted": true,
        "id": "SncBjkhqqbhP"
      },
      "execution_count": null,
      "outputs": []
    },
    {
      "cell_type": "markdown",
      "source": [
        "# Handling missing values in the columns"
      ],
      "metadata": {
        "id": "8eVKGw2cqbhP"
      }
    },
    {
      "cell_type": "code",
      "source": [
        "X_train['store_and_fwd_flag'].unique()"
      ],
      "metadata": {
        "execution": {
          "iopub.status.busy": "2023-11-28T12:25:00.384257Z",
          "iopub.execute_input": "2023-11-28T12:25:00.384681Z",
          "iopub.status.idle": "2023-11-28T12:25:00.405Z",
          "shell.execute_reply.started": "2023-11-28T12:25:00.38465Z",
          "shell.execute_reply": "2023-11-28T12:25:00.403659Z"
        },
        "trusted": true,
        "id": "UR6SQtduqbhP"
      },
      "execution_count": null,
      "outputs": []
    },
    {
      "cell_type": "code",
      "source": [
        "print(len(X_train[X_train['store_and_fwd_flag'] == 'Y']))\n",
        "print(len(X_train[X_train['store_and_fwd_flag'] == 'N']))\n",
        "print(len(X_train[X_train['store_and_fwd_flag'].isna()]))"
      ],
      "metadata": {
        "execution": {
          "iopub.status.busy": "2023-11-28T12:25:00.406542Z",
          "iopub.execute_input": "2023-11-28T12:25:00.406893Z",
          "iopub.status.idle": "2023-11-28T12:25:00.490356Z",
          "shell.execute_reply.started": "2023-11-28T12:25:00.406863Z",
          "shell.execute_reply": "2023-11-28T12:25:00.489496Z"
        },
        "trusted": true,
        "id": "G9lGBqj6qbhP"
      },
      "execution_count": null,
      "outputs": []
    },
    {
      "cell_type": "code",
      "source": [
        "X_val['store_and_fwd_flag'].unique()"
      ],
      "metadata": {
        "execution": {
          "iopub.status.busy": "2023-11-28T12:25:00.491548Z",
          "iopub.execute_input": "2023-11-28T12:25:00.492459Z",
          "iopub.status.idle": "2023-11-28T12:25:00.502678Z",
          "shell.execute_reply.started": "2023-11-28T12:25:00.492425Z",
          "shell.execute_reply": "2023-11-28T12:25:00.501717Z"
        },
        "trusted": true,
        "id": "AoB4p1-dqbhP"
      },
      "execution_count": null,
      "outputs": []
    },
    {
      "cell_type": "code",
      "source": [
        "print(len(X_val[X_val['store_and_fwd_flag'] == 'Y']))\n",
        "print(len(X_val[X_val['store_and_fwd_flag'] == 'N']))\n",
        "print(len(X_val[X_val['store_and_fwd_flag'].isna()]))"
      ],
      "metadata": {
        "execution": {
          "iopub.status.busy": "2023-11-28T12:25:00.504433Z",
          "iopub.execute_input": "2023-11-28T12:25:00.505111Z",
          "iopub.status.idle": "2023-11-28T12:25:00.538701Z",
          "shell.execute_reply.started": "2023-11-28T12:25:00.505077Z",
          "shell.execute_reply": "2023-11-28T12:25:00.537464Z"
        },
        "trusted": true,
        "id": "7xhJRD83qbhP"
      },
      "execution_count": null,
      "outputs": []
    },
    {
      "cell_type": "code",
      "source": [
        "X_train['store_and_fwd_flag'].fillna('N',inplace=True)\n",
        "print(X_train['store_and_fwd_flag'].isna().sum())"
      ],
      "metadata": {
        "execution": {
          "iopub.status.busy": "2023-11-28T12:25:00.540221Z",
          "iopub.execute_input": "2023-11-28T12:25:00.540617Z",
          "iopub.status.idle": "2023-11-28T12:25:00.580707Z",
          "shell.execute_reply.started": "2023-11-28T12:25:00.540582Z",
          "shell.execute_reply": "2023-11-28T12:25:00.579473Z"
        },
        "trusted": true,
        "id": "0KPlposAqbhP"
      },
      "execution_count": null,
      "outputs": []
    },
    {
      "cell_type": "code",
      "source": [
        "X_val['store_and_fwd_flag'].fillna('N',inplace=True)\n",
        "print(X_val['store_and_fwd_flag'].isna().sum())"
      ],
      "metadata": {
        "execution": {
          "iopub.status.busy": "2023-11-28T12:25:00.584912Z",
          "iopub.execute_input": "2023-11-28T12:25:00.585314Z",
          "iopub.status.idle": "2023-11-28T12:25:00.603346Z",
          "shell.execute_reply.started": "2023-11-28T12:25:00.585283Z",
          "shell.execute_reply": "2023-11-28T12:25:00.5997Z"
        },
        "trusted": true,
        "id": "14fxmatgqbhP"
      },
      "execution_count": null,
      "outputs": []
    },
    {
      "cell_type": "code",
      "source": [
        "print(X_train['payment_type'].unique())"
      ],
      "metadata": {
        "execution": {
          "iopub.status.busy": "2023-11-28T12:25:00.605278Z",
          "iopub.execute_input": "2023-11-28T12:25:00.605777Z",
          "iopub.status.idle": "2023-11-28T12:25:00.625128Z",
          "shell.execute_reply.started": "2023-11-28T12:25:00.605734Z",
          "shell.execute_reply": "2023-11-28T12:25:00.623843Z"
        },
        "trusted": true,
        "id": "N6rArnyPqbhP"
      },
      "execution_count": null,
      "outputs": []
    },
    {
      "cell_type": "code",
      "source": [
        "print(len(X_train[X_train['payment_type'] == 'Credit Card']))\n",
        "print(len(X_train[X_train['payment_type'] == 'Cash']))\n",
        "print(len(X_train[X_train['payment_type'] == 'Wallet']))\n",
        "print(len(X_train[X_train['payment_type'] == 'UPI']))\n",
        "print(len(X_train[X_train['payment_type'] == 'unknown']))"
      ],
      "metadata": {
        "execution": {
          "iopub.status.busy": "2023-11-28T12:25:00.626677Z",
          "iopub.execute_input": "2023-11-28T12:25:00.628014Z",
          "iopub.status.idle": "2023-11-28T12:25:00.777414Z",
          "shell.execute_reply.started": "2023-11-28T12:25:00.627962Z",
          "shell.execute_reply": "2023-11-28T12:25:00.776024Z"
        },
        "trusted": true,
        "id": "7tKP9SkrqbhP"
      },
      "execution_count": null,
      "outputs": []
    },
    {
      "cell_type": "code",
      "source": [
        "X_train['payment_type'].replace('unknown', 'Credit Card', inplace = True)\n",
        "X_val['payment_type'].replace('unknown', 'Credit Card', inplace = True)"
      ],
      "metadata": {
        "execution": {
          "iopub.status.busy": "2023-11-28T12:25:00.779823Z",
          "iopub.execute_input": "2023-11-28T12:25:00.78032Z",
          "iopub.status.idle": "2023-11-28T12:25:00.817243Z",
          "shell.execute_reply.started": "2023-11-28T12:25:00.780274Z",
          "shell.execute_reply": "2023-11-28T12:25:00.816086Z"
        },
        "trusted": true,
        "id": "ZNK70K5wqbhQ"
      },
      "execution_count": null,
      "outputs": []
    },
    {
      "cell_type": "code",
      "source": [
        "X_train['payment_type'].unique()"
      ],
      "metadata": {
        "execution": {
          "iopub.status.busy": "2023-11-28T12:25:00.819007Z",
          "iopub.execute_input": "2023-11-28T12:25:00.819527Z",
          "iopub.status.idle": "2023-11-28T12:25:00.842912Z",
          "shell.execute_reply.started": "2023-11-28T12:25:00.819481Z",
          "shell.execute_reply": "2023-11-28T12:25:00.84171Z"
        },
        "trusted": true,
        "id": "0NhVtDd4qbhQ"
      },
      "execution_count": null,
      "outputs": []
    },
    {
      "cell_type": "code",
      "source": [
        "X_val['payment_type'].unique()"
      ],
      "metadata": {
        "execution": {
          "iopub.status.busy": "2023-11-28T12:25:00.844947Z",
          "iopub.execute_input": "2023-11-28T12:25:00.845432Z",
          "iopub.status.idle": "2023-11-28T12:25:00.856847Z",
          "shell.execute_reply.started": "2023-11-28T12:25:00.845369Z",
          "shell.execute_reply": "2023-11-28T12:25:00.855474Z"
        },
        "trusted": true,
        "id": "OZeB6jZlqbhQ"
      },
      "execution_count": null,
      "outputs": []
    },
    {
      "cell_type": "code",
      "source": [
        "X_train['store_and_fwd_flag'].unique()"
      ],
      "metadata": {
        "execution": {
          "iopub.status.busy": "2023-11-28T12:25:00.858772Z",
          "iopub.execute_input": "2023-11-28T12:25:00.859251Z",
          "iopub.status.idle": "2023-11-28T12:25:00.88097Z",
          "shell.execute_reply.started": "2023-11-28T12:25:00.859208Z",
          "shell.execute_reply": "2023-11-28T12:25:00.879338Z"
        },
        "trusted": true,
        "id": "oifN484mqbhQ"
      },
      "execution_count": null,
      "outputs": []
    },
    {
      "cell_type": "code",
      "source": [
        "X_val['store_and_fwd_flag'].unique()"
      ],
      "metadata": {
        "execution": {
          "iopub.status.busy": "2023-11-28T12:25:00.882147Z",
          "iopub.execute_input": "2023-11-28T12:25:00.883808Z",
          "iopub.status.idle": "2023-11-28T12:25:00.894115Z",
          "shell.execute_reply.started": "2023-11-28T12:25:00.883753Z",
          "shell.execute_reply": "2023-11-28T12:25:00.892837Z"
        },
        "trusted": true,
        "id": "QsfcO7B8qbhQ"
      },
      "execution_count": null,
      "outputs": []
    },
    {
      "cell_type": "code",
      "source": [
        "# Using simple imputer to fill the null values in numerical columns\n",
        "si= SimpleImputer(strategy= 'mean')\n",
        "X_train[Num_cols]= si.fit_transform(X_train[Num_cols])\n",
        "X_val[Num_cols]= si.transform(X_val[Num_cols])"
      ],
      "metadata": {
        "execution": {
          "iopub.status.busy": "2023-11-28T12:25:00.895721Z",
          "iopub.execute_input": "2023-11-28T12:25:00.896095Z",
          "iopub.status.idle": "2023-11-28T12:25:00.970756Z",
          "shell.execute_reply.started": "2023-11-28T12:25:00.896062Z",
          "shell.execute_reply": "2023-11-28T12:25:00.969547Z"
        },
        "trusted": true,
        "id": "pCTuBdFNqbhQ"
      },
      "execution_count": null,
      "outputs": []
    },
    {
      "cell_type": "code",
      "source": [
        "X_train.isnull().sum()"
      ],
      "metadata": {
        "execution": {
          "iopub.status.busy": "2023-11-28T12:25:00.972185Z",
          "iopub.execute_input": "2023-11-28T12:25:00.972602Z",
          "iopub.status.idle": "2023-11-28T12:25:01.01979Z",
          "shell.execute_reply.started": "2023-11-28T12:25:00.972569Z",
          "shell.execute_reply": "2023-11-28T12:25:01.018798Z"
        },
        "trusted": true,
        "id": "0jHJVYucqbhQ"
      },
      "execution_count": null,
      "outputs": []
    },
    {
      "cell_type": "code",
      "source": [
        "X_val.isnull().sum()"
      ],
      "metadata": {
        "execution": {
          "iopub.status.busy": "2023-11-28T12:25:01.021655Z",
          "iopub.execute_input": "2023-11-28T12:25:01.022209Z",
          "iopub.status.idle": "2023-11-28T12:25:01.043078Z",
          "shell.execute_reply.started": "2023-11-28T12:25:01.022166Z",
          "shell.execute_reply": "2023-11-28T12:25:01.041611Z"
        },
        "trusted": true,
        "id": "e3hEe4FrqbhR"
      },
      "execution_count": null,
      "outputs": []
    },
    {
      "cell_type": "code",
      "source": [
        "X_train.dtypes"
      ],
      "metadata": {
        "execution": {
          "iopub.status.busy": "2023-11-28T12:25:01.044032Z",
          "iopub.execute_input": "2023-11-28T12:25:01.044341Z",
          "iopub.status.idle": "2023-11-28T12:25:01.053627Z",
          "shell.execute_reply.started": "2023-11-28T12:25:01.044314Z",
          "shell.execute_reply": "2023-11-28T12:25:01.05239Z"
        },
        "trusted": true,
        "id": "RPMLUin0qbhR"
      },
      "execution_count": null,
      "outputs": []
    },
    {
      "cell_type": "code",
      "source": [
        "# One-Hot Encoding using get_dummies in categorical columns\n",
        "X_train = pd.get_dummies(X_train, columns=Cat_cols, prefix=['store_and_fwd_flag ','payment_type'],dtype=bool)\n",
        "X_train=X_train*1\n",
        "X_val = pd.get_dummies(X_val, columns=Cat_cols, prefix=['store_and_fwd_flag ','payment_type'],dtype=bool)\n",
        "X_val=X_val*1"
      ],
      "metadata": {
        "execution": {
          "iopub.status.busy": "2023-11-28T12:25:01.055595Z",
          "iopub.execute_input": "2023-11-28T12:25:01.056224Z",
          "iopub.status.idle": "2023-11-28T12:25:01.139246Z",
          "shell.execute_reply.started": "2023-11-28T12:25:01.056179Z",
          "shell.execute_reply": "2023-11-28T12:25:01.138081Z"
        },
        "trusted": true,
        "id": "rfW13gvPqbhR"
      },
      "execution_count": null,
      "outputs": []
    },
    {
      "cell_type": "code",
      "source": [
        "X_train.dtypes"
      ],
      "metadata": {
        "execution": {
          "iopub.status.busy": "2023-11-28T12:25:01.140746Z",
          "iopub.execute_input": "2023-11-28T12:25:01.141101Z",
          "iopub.status.idle": "2023-11-28T12:25:01.15056Z",
          "shell.execute_reply.started": "2023-11-28T12:25:01.141071Z",
          "shell.execute_reply": "2023-11-28T12:25:01.149087Z"
        },
        "trusted": true,
        "id": "SdHL-HEPqbhR"
      },
      "execution_count": null,
      "outputs": []
    },
    {
      "cell_type": "code",
      "source": [
        "X_val.head()"
      ],
      "metadata": {
        "execution": {
          "iopub.status.busy": "2023-11-28T12:25:01.15248Z",
          "iopub.execute_input": "2023-11-28T12:25:01.152847Z",
          "iopub.status.idle": "2023-11-28T12:25:01.18454Z",
          "shell.execute_reply.started": "2023-11-28T12:25:01.152817Z",
          "shell.execute_reply": "2023-11-28T12:25:01.183207Z"
        },
        "trusted": true,
        "id": "i3xBnXY4qbhR"
      },
      "execution_count": null,
      "outputs": []
    },
    {
      "cell_type": "markdown",
      "source": [
        "# Making heat Map for Numerical Columns to know various correlations"
      ],
      "metadata": {
        "id": "BvlqXlyYqbhR"
      }
    },
    {
      "cell_type": "code",
      "source": [
        "plt.figure(figsize=(15,10))\n",
        "sns.heatmap(data = X_train[Num_cols].corr(), annot = True)\n",
        "plt.show()"
      ],
      "metadata": {
        "execution": {
          "iopub.status.busy": "2023-11-28T12:25:01.186532Z",
          "iopub.execute_input": "2023-11-28T12:25:01.187019Z",
          "iopub.status.idle": "2023-11-28T12:25:02.388874Z",
          "shell.execute_reply.started": "2023-11-28T12:25:01.186973Z",
          "shell.execute_reply": "2023-11-28T12:25:02.387957Z"
        },
        "trusted": true,
        "id": "ZWXQJL3MqbhR"
      },
      "execution_count": null,
      "outputs": []
    },
    {
      "cell_type": "code",
      "source": [
        "# Using MinMaxScaler\n",
        "# Because it's a type of normalization (bringing the data to a scale between 0 and 1).\n",
        "# Prevent Distortion Due to Outliers\n",
        "min_max_scl=MinMaxScaler()\n",
        "X_train=min_max_scl.fit_transform(X_train)\n",
        "X_val=min_max_scl.transform(X_val)"
      ],
      "metadata": {
        "execution": {
          "iopub.status.busy": "2023-11-28T12:25:02.390337Z",
          "iopub.execute_input": "2023-11-28T12:25:02.391295Z",
          "iopub.status.idle": "2023-11-28T12:25:02.442592Z",
          "shell.execute_reply.started": "2023-11-28T12:25:02.391261Z",
          "shell.execute_reply": "2023-11-28T12:25:02.441396Z"
        },
        "trusted": true,
        "id": "qZlPy04CqbhR"
      },
      "execution_count": null,
      "outputs": []
    },
    {
      "cell_type": "markdown",
      "source": [
        "# Repeating the same preprocessing tecniques for Test data"
      ],
      "metadata": {
        "id": "LPtNMr2LqbhR"
      }
    },
    {
      "cell_type": "code",
      "source": [
        "test_data['travel_time'] = ((pd.to_datetime(test_data['tpep_pickup_datetime'])-pd.to_datetime(test_data['tpep_dropoff_datetime'])).dt.seconds)/60\n",
        "test_data = test_data.drop(columns=['tpep_pickup_datetime','tpep_dropoff_datetime'])\n",
        "test_data['store_and_fwd_flag'].fillna('N', inplace=True)\n",
        "test_data['payment_type'].replace('unknown', 'Credit Card', inplace = True)\n",
        "test_data[Num_cols]= si.transform(test_data[Num_cols])\n",
        "test_data = pd.get_dummies(test_data, columns = Cat_cols, prefix=['store_and_fwd_flag ','payment_type'],dtype=bool)\n",
        "test_data = test_data*1\n",
        "test_data = min_max_scl.transform(test_data)"
      ],
      "metadata": {
        "execution": {
          "iopub.status.busy": "2023-11-28T12:25:02.444236Z",
          "iopub.execute_input": "2023-11-28T12:25:02.445318Z",
          "iopub.status.idle": "2023-11-28T12:25:02.568376Z",
          "shell.execute_reply.started": "2023-11-28T12:25:02.445277Z",
          "shell.execute_reply": "2023-11-28T12:25:02.56716Z"
        },
        "trusted": true,
        "id": "gF7HyZy4qbhR"
      },
      "execution_count": null,
      "outputs": []
    },
    {
      "cell_type": "markdown",
      "source": [
        "# Milestone2"
      ],
      "metadata": {
        "id": "rBjMqCT4qbhS"
      }
    },
    {
      "cell_type": "markdown",
      "source": [
        "# DummyRegressor"
      ],
      "metadata": {
        "id": "-_3FcPsiqbhS"
      }
    },
    {
      "cell_type": "code",
      "source": [
        "dummy_regressor = DummyRegressor(strategy='mean')"
      ],
      "metadata": {
        "execution": {
          "iopub.status.busy": "2023-11-28T12:25:02.569972Z",
          "iopub.execute_input": "2023-11-28T12:25:02.57073Z",
          "iopub.status.idle": "2023-11-28T12:25:02.576315Z",
          "shell.execute_reply.started": "2023-11-28T12:25:02.570694Z",
          "shell.execute_reply": "2023-11-28T12:25:02.57494Z"
        },
        "trusted": true,
        "id": "h97MQb4qqbhS"
      },
      "execution_count": null,
      "outputs": []
    },
    {
      "cell_type": "code",
      "source": [
        "dummy_regressor.fit(X,y)"
      ],
      "metadata": {
        "execution": {
          "iopub.status.busy": "2023-11-28T12:25:02.577607Z",
          "iopub.execute_input": "2023-11-28T12:25:02.577925Z",
          "iopub.status.idle": "2023-11-28T12:25:02.597368Z",
          "shell.execute_reply.started": "2023-11-28T12:25:02.577898Z",
          "shell.execute_reply": "2023-11-28T12:25:02.595961Z"
        },
        "trusted": true,
        "id": "iwioIvmGqbhS"
      },
      "execution_count": null,
      "outputs": []
    },
    {
      "cell_type": "code",
      "source": [
        "X_test=test_data\n",
        "y_pred = dummy_regressor.predict(X_test)"
      ],
      "metadata": {
        "execution": {
          "iopub.status.busy": "2023-11-28T12:25:02.601648Z",
          "iopub.execute_input": "2023-11-28T12:25:02.602322Z",
          "iopub.status.idle": "2023-11-28T12:25:02.608651Z",
          "shell.execute_reply.started": "2023-11-28T12:25:02.602285Z",
          "shell.execute_reply": "2023-11-28T12:25:02.607295Z"
        },
        "trusted": true,
        "id": "44CTAXSvqbhS"
      },
      "execution_count": null,
      "outputs": []
    },
    {
      "cell_type": "code",
      "source": [
        "submission = pd.DataFrame(columns = [\"ID\",\"total_amount\"])\n",
        "submission[\"ID\"] = [i for i in range(1,len(y_pred)+1)]\n",
        "submission[\"total_amount\"] = y_pred\n",
        "submission.to_csv('submission.csv',index=False)"
      ],
      "metadata": {
        "execution": {
          "iopub.status.busy": "2023-11-28T12:25:02.610386Z",
          "iopub.execute_input": "2023-11-28T12:25:02.610819Z",
          "iopub.status.idle": "2023-11-28T12:25:02.87846Z",
          "shell.execute_reply.started": "2023-11-28T12:25:02.610788Z",
          "shell.execute_reply": "2023-11-28T12:25:02.877335Z"
        },
        "trusted": true,
        "id": "Ps63Vk0YqbhS"
      },
      "execution_count": null,
      "outputs": []
    },
    {
      "cell_type": "code",
      "source": [
        "submission"
      ],
      "metadata": {
        "execution": {
          "iopub.status.busy": "2023-11-28T12:25:02.880053Z",
          "iopub.execute_input": "2023-11-28T12:25:02.880445Z",
          "iopub.status.idle": "2023-11-28T12:25:02.893609Z",
          "shell.execute_reply.started": "2023-11-28T12:25:02.880412Z",
          "shell.execute_reply": "2023-11-28T12:25:02.892268Z"
        },
        "trusted": true,
        "id": "wSxVgRj1qbhS"
      },
      "execution_count": null,
      "outputs": []
    },
    {
      "cell_type": "markdown",
      "source": [
        "level2_74# MODEL 1\n",
        "#  Train LinearRegression with cross validation\n",
        "# Got 0.69963 score\n",
        "# R2 score:0.7235502908878633"
      ],
      "metadata": {
        "id": "7F_EPRfWqbhS"
      }
    },
    {
      "cell_type": "code",
      "source": [
        "from sklearn.model_selection import cross_val_score"
      ],
      "metadata": {
        "execution": {
          "iopub.status.busy": "2023-11-28T12:25:02.895177Z",
          "iopub.execute_input": "2023-11-28T12:25:02.895584Z",
          "iopub.status.idle": "2023-11-28T12:25:02.903242Z",
          "shell.execute_reply.started": "2023-11-28T12:25:02.89554Z",
          "shell.execute_reply": "2023-11-28T12:25:02.901937Z"
        },
        "trusted": true,
        "id": "BT18lN8JqbhS"
      },
      "execution_count": null,
      "outputs": []
    },
    {
      "cell_type": "code",
      "source": [
        "LR=LinearRegression()\n",
        "LR.fit(X_train,y_train)\n"
      ],
      "metadata": {
        "execution": {
          "iopub.status.busy": "2023-11-28T12:25:02.905258Z",
          "iopub.execute_input": "2023-11-28T12:25:02.905947Z",
          "iopub.status.idle": "2023-11-28T12:25:03.064811Z",
          "shell.execute_reply.started": "2023-11-28T12:25:02.905907Z",
          "shell.execute_reply": "2023-11-28T12:25:03.062941Z"
        },
        "trusted": true,
        "id": "A_VITJhsqbhT"
      },
      "execution_count": null,
      "outputs": []
    },
    {
      "cell_type": "code",
      "source": [
        "y_pred=LR.predict(X_val)"
      ],
      "metadata": {
        "execution": {
          "iopub.status.busy": "2023-11-28T12:25:03.066667Z",
          "iopub.execute_input": "2023-11-28T12:25:03.071665Z",
          "iopub.status.idle": "2023-11-28T12:25:03.087541Z",
          "shell.execute_reply.started": "2023-11-28T12:25:03.071575Z",
          "shell.execute_reply": "2023-11-28T12:25:03.085468Z"
        },
        "trusted": true,
        "id": "KQ8iJMorqbhT"
      },
      "execution_count": null,
      "outputs": []
    },
    {
      "cell_type": "code",
      "source": [
        "mse =-cross_val_score(LR,X_train,y_train,scoring='neg_mean_squared_error',cv=5)"
      ],
      "metadata": {
        "execution": {
          "iopub.status.busy": "2023-11-28T12:25:03.094767Z",
          "iopub.execute_input": "2023-11-28T12:25:03.097891Z",
          "iopub.status.idle": "2023-11-28T12:25:03.949567Z",
          "shell.execute_reply.started": "2023-11-28T12:25:03.097811Z",
          "shell.execute_reply": "2023-11-28T12:25:03.94797Z"
        },
        "trusted": true,
        "id": "JOEBlKtOqbhT"
      },
      "execution_count": null,
      "outputs": []
    },
    {
      "cell_type": "code",
      "source": [
        "np.mean(mse)"
      ],
      "metadata": {
        "execution": {
          "iopub.status.busy": "2023-11-28T12:25:03.95175Z",
          "iopub.execute_input": "2023-11-28T12:25:03.952768Z",
          "iopub.status.idle": "2023-11-28T12:25:03.967699Z",
          "shell.execute_reply.started": "2023-11-28T12:25:03.952707Z",
          "shell.execute_reply": "2023-11-28T12:25:03.965635Z"
        },
        "trusted": true,
        "id": "Sr9leIlbqbhT"
      },
      "execution_count": null,
      "outputs": []
    },
    {
      "cell_type": "code",
      "source": [
        "y_pred"
      ],
      "metadata": {
        "execution": {
          "iopub.status.busy": "2023-11-28T12:25:03.970204Z",
          "iopub.execute_input": "2023-11-28T12:25:03.972654Z",
          "iopub.status.idle": "2023-11-28T12:25:03.989485Z",
          "shell.execute_reply.started": "2023-11-28T12:25:03.972577Z",
          "shell.execute_reply": "2023-11-28T12:25:03.987475Z"
        },
        "trusted": true,
        "id": "HhJcJsR8qbhT"
      },
      "execution_count": null,
      "outputs": []
    },
    {
      "cell_type": "code",
      "source": [
        "test_predictions = LR.predict(test_data)"
      ],
      "metadata": {
        "execution": {
          "iopub.status.busy": "2023-11-28T12:25:03.992085Z",
          "iopub.execute_input": "2023-11-28T12:25:03.997823Z",
          "iopub.status.idle": "2023-11-28T12:25:04.013961Z",
          "shell.execute_reply.started": "2023-11-28T12:25:03.99774Z",
          "shell.execute_reply": "2023-11-28T12:25:04.011748Z"
        },
        "trusted": true,
        "id": "IpiglEefqbhT"
      },
      "execution_count": null,
      "outputs": []
    },
    {
      "cell_type": "code",
      "source": [
        "R2_score=r2_score(y_val,y_pred)\n",
        "R2_score"
      ],
      "metadata": {
        "execution": {
          "iopub.status.busy": "2023-11-28T12:25:04.017356Z",
          "iopub.execute_input": "2023-11-28T12:25:04.020553Z",
          "iopub.status.idle": "2023-11-28T12:25:04.045125Z",
          "shell.execute_reply.started": "2023-11-28T12:25:04.020476Z",
          "shell.execute_reply": "2023-11-28T12:25:04.043653Z"
        },
        "trusted": true,
        "id": "_xMIaZ2NqbhT"
      },
      "execution_count": null,
      "outputs": []
    },
    {
      "cell_type": "code",
      "source": [
        "submission = pd.DataFrame(columns = [\"ID\",\"total_amount\"])\n",
        "submission[\"ID\"] = [i for i in range(1,len(test_predictions)+1)]\n",
        "submission[\"total_amount\"] = test_predictions\n",
        "submission.to_csv('submission.csv',index=False)"
      ],
      "metadata": {
        "execution": {
          "iopub.status.busy": "2023-11-28T12:25:04.04742Z",
          "iopub.execute_input": "2023-11-28T12:25:04.04909Z",
          "iopub.status.idle": "2023-11-28T12:25:04.36591Z",
          "shell.execute_reply.started": "2023-11-28T12:25:04.049022Z",
          "shell.execute_reply": "2023-11-28T12:25:04.364259Z"
        },
        "trusted": true,
        "id": "A-M1-hJAqbhT"
      },
      "execution_count": null,
      "outputs": []
    },
    {
      "cell_type": "code",
      "source": [
        "submission"
      ],
      "metadata": {
        "execution": {
          "iopub.status.busy": "2023-11-28T12:25:04.36724Z",
          "iopub.execute_input": "2023-11-28T12:25:04.367628Z",
          "iopub.status.idle": "2023-11-28T12:25:04.382647Z",
          "shell.execute_reply.started": "2023-11-28T12:25:04.367597Z",
          "shell.execute_reply": "2023-11-28T12:25:04.381206Z"
        },
        "trusted": true,
        "id": "7HmGzhKNqbhT"
      },
      "execution_count": null,
      "outputs": []
    },
    {
      "cell_type": "markdown",
      "source": [
        "# Milestone 3"
      ],
      "metadata": {
        "id": "FB9limZuqbhU"
      }
    },
    {
      "cell_type": "markdown",
      "source": [
        "# MODEL 2\n",
        "# Train the model with the KNN algorithm\n",
        "# Hyperperameter tuning with GridsearchCV\n",
        "# R2 score:0.7893123232754766\n",
        "# Got score 0.76001\n"
      ],
      "metadata": {
        "id": "6cIx949bqbhU"
      }
    },
    {
      "cell_type": "code",
      "source": [
        "# Creating a pipe with standard scaler, polynomial features of degree 2 and KNN\n",
        "PIPELINE = Pipeline([ ('ss', StandardScaler()), ('poly',PolynomialFeatures(degree= 2)),('pca',PCA(n_components = 8)),('KNN',KNeighborsRegressor()) ])"
      ],
      "metadata": {
        "execution": {
          "iopub.status.busy": "2023-11-28T12:25:04.384035Z",
          "iopub.execute_input": "2023-11-28T12:25:04.38439Z",
          "iopub.status.idle": "2023-11-28T12:25:04.391992Z",
          "shell.execute_reply.started": "2023-11-28T12:25:04.384361Z",
          "shell.execute_reply": "2023-11-28T12:25:04.390705Z"
        },
        "trusted": true,
        "id": "sgYupGZHqbhU"
      },
      "execution_count": null,
      "outputs": []
    },
    {
      "cell_type": "code",
      "source": [
        "parameters = {\n",
        "    'KNN__n_neighbors': [3, 5, 7, 9],  # trying different values for n_neighbors\n",
        "}\n",
        "\n",
        "# Using GridSearchCV to find the best parameters\n",
        "grid_search = GridSearchCV(PIPELINE, parameters, cv=5, scoring='neg_mean_squared_error', verbose=1, n_jobs=-1)\n",
        "\n",
        "# Fitting the GridSearchCV\n",
        "grid_search.fit(X_train, y_train)\n",
        "\n",
        "# Best parameters\n",
        "print(\"Best parameters set:\")\n",
        "print(grid_search.best_params_)\n",
        "\n",
        "# Evaluating on the validation set\n",
        "y_pred = grid_search.predict(X_val)\n",
        "\n",
        "# Calculating R^2 score or any other preferred metric\n",
        "r2 = r2_score(y_val, y_pred)\n",
        "print(f'R^2 Score: {r2}')"
      ],
      "metadata": {
        "execution": {
          "iopub.status.busy": "2023-11-28T12:25:04.394106Z",
          "iopub.execute_input": "2023-11-28T12:25:04.394617Z",
          "iopub.status.idle": "2023-11-28T12:25:50.383632Z",
          "shell.execute_reply.started": "2023-11-28T12:25:04.394568Z",
          "shell.execute_reply": "2023-11-28T12:25:50.38227Z"
        },
        "trusted": true,
        "id": "miTTW0LGqbhU"
      },
      "execution_count": null,
      "outputs": []
    },
    {
      "cell_type": "code",
      "source": [
        "test_predictions_knn = grid_search.predict(test_data)"
      ],
      "metadata": {
        "execution": {
          "iopub.status.busy": "2023-11-28T12:25:50.385443Z",
          "iopub.execute_input": "2023-11-28T12:25:50.386335Z",
          "iopub.status.idle": "2023-11-28T12:25:54.309661Z",
          "shell.execute_reply.started": "2023-11-28T12:25:50.3863Z",
          "shell.execute_reply": "2023-11-28T12:25:54.308498Z"
        },
        "trusted": true,
        "id": "HaUeVHrEqbhU"
      },
      "execution_count": null,
      "outputs": []
    },
    {
      "cell_type": "code",
      "source": [
        "submission = pd.DataFrame(columns = [\"ID\",\"total_amount\"])\n",
        "submission[\"ID\"] = [i for i in range(1,len(test_predictions_knn)+1)]\n",
        "submission[\"total_amount\"] = test_predictions_knn\n",
        "submission.to_csv('submission.csv',index=False)"
      ],
      "metadata": {
        "execution": {
          "iopub.status.busy": "2023-11-28T12:25:54.311181Z",
          "iopub.execute_input": "2023-11-28T12:25:54.311589Z",
          "iopub.status.idle": "2023-11-28T12:25:54.5833Z",
          "shell.execute_reply.started": "2023-11-28T12:25:54.311555Z",
          "shell.execute_reply": "2023-11-28T12:25:54.582223Z"
        },
        "trusted": true,
        "id": "Mj6XptzeqbhU"
      },
      "execution_count": null,
      "outputs": []
    },
    {
      "cell_type": "code",
      "source": [
        "submission"
      ],
      "metadata": {
        "execution": {
          "iopub.status.busy": "2023-11-28T12:25:54.584666Z",
          "iopub.execute_input": "2023-11-28T12:25:54.58499Z",
          "iopub.status.idle": "2023-11-28T12:25:54.600297Z",
          "shell.execute_reply.started": "2023-11-28T12:25:54.584962Z",
          "shell.execute_reply": "2023-11-28T12:25:54.599169Z"
        },
        "trusted": true,
        "id": "OkwDaS9kqbhU"
      },
      "execution_count": null,
      "outputs": []
    },
    {
      "cell_type": "markdown",
      "source": [
        "# Milestone 4"
      ],
      "metadata": {
        "id": "u870mO8bqbhU"
      }
    },
    {
      "cell_type": "markdown",
      "source": [
        "# MODEL 3\n",
        "# Train the model with DecisionTreeRegressor\n",
        "# Hyperperameter tuning with GridsearchCV\n",
        "# R2 Score: 0.8072189679237509\n",
        "# Got score 0.8308"
      ],
      "metadata": {
        "id": "HChuFyzUqbhU"
      }
    },
    {
      "cell_type": "code",
      "source": [
        "# Creating a pipe with standard scaler, polynomial features of degree 2 and DecisionTreeRegressor\n",
        "PIPELINE_dt = Pipeline([ ('ss', StandardScaler()), ('poly',PolynomialFeatures(degree= 2)),('pca',PCA(n_components = 8)),('DT',DecisionTreeRegressor(random_state=42)) ])"
      ],
      "metadata": {
        "execution": {
          "iopub.status.busy": "2023-11-28T12:25:54.601856Z",
          "iopub.execute_input": "2023-11-28T12:25:54.602288Z",
          "iopub.status.idle": "2023-11-28T12:25:54.611869Z",
          "shell.execute_reply.started": "2023-11-28T12:25:54.602257Z",
          "shell.execute_reply": "2023-11-28T12:25:54.610575Z"
        },
        "trusted": true,
        "id": "ZDhIEwUCqbhV"
      },
      "execution_count": null,
      "outputs": []
    },
    {
      "cell_type": "code",
      "source": [
        "# Define the parameter grid\n",
        "param_grid = {\n",
        "    'DT__max_depth': [10, 20, 30],\n",
        "\n",
        "}"
      ],
      "metadata": {
        "execution": {
          "iopub.status.busy": "2023-11-28T12:25:54.613317Z",
          "iopub.execute_input": "2023-11-28T12:25:54.613686Z",
          "iopub.status.idle": "2023-11-28T12:25:54.624916Z",
          "shell.execute_reply.started": "2023-11-28T12:25:54.613658Z",
          "shell.execute_reply": "2023-11-28T12:25:54.623505Z"
        },
        "trusted": true,
        "id": "31x3vdn-qbhV"
      },
      "execution_count": null,
      "outputs": []
    },
    {
      "cell_type": "code",
      "source": [
        "# Grid Search with Cross-Validation\n",
        "dt_grid_search = GridSearchCV(estimator=PIPELINE_dt, param_grid=param_grid,\n",
        "                              cv=5, n_jobs=-1, scoring='neg_mean_squared_error',verbose=2)"
      ],
      "metadata": {
        "execution": {
          "iopub.status.busy": "2023-11-28T12:25:54.626698Z",
          "iopub.execute_input": "2023-11-28T12:25:54.627042Z",
          "iopub.status.idle": "2023-11-28T12:25:54.636711Z",
          "shell.execute_reply.started": "2023-11-28T12:25:54.627013Z",
          "shell.execute_reply": "2023-11-28T12:25:54.63553Z"
        },
        "trusted": true,
        "id": "95swiF__qbhV"
      },
      "execution_count": null,
      "outputs": []
    },
    {
      "cell_type": "code",
      "source": [
        "# Fit the model on the training data\n",
        "dt_grid_search.fit(X_train, y_train)"
      ],
      "metadata": {
        "execution": {
          "iopub.status.busy": "2023-11-28T12:25:54.638234Z",
          "iopub.execute_input": "2023-11-28T12:25:54.63938Z",
          "iopub.status.idle": "2023-11-28T12:26:28.579438Z",
          "shell.execute_reply.started": "2023-11-28T12:25:54.639333Z",
          "shell.execute_reply": "2023-11-28T12:26:28.578111Z"
        },
        "trusted": true,
        "id": "LkTmsHCOqbhV"
      },
      "execution_count": null,
      "outputs": []
    },
    {
      "cell_type": "code",
      "source": [
        "# Assuming X_val and y_val are your validation data and labels\n",
        "y_pred_val = dt_grid_search.predict(X_val)\n",
        "\n",
        "# Calculate R^2 score\n",
        "r2_score_val = r2_score(y_val, y_pred_val)\n",
        "\n",
        "print(f\"R^2 Score on Validation Set: {r2_score_val}\")\n"
      ],
      "metadata": {
        "execution": {
          "iopub.status.busy": "2023-11-28T12:26:28.581148Z",
          "iopub.execute_input": "2023-11-28T12:26:28.581611Z",
          "iopub.status.idle": "2023-11-28T12:26:28.73988Z",
          "shell.execute_reply.started": "2023-11-28T12:26:28.581569Z",
          "shell.execute_reply": "2023-11-28T12:26:28.735476Z"
        },
        "trusted": true,
        "id": "c1hv6hblqbhV"
      },
      "execution_count": null,
      "outputs": []
    },
    {
      "cell_type": "code",
      "source": [
        "predictions = dt_grid_search.predict(test_data)"
      ],
      "metadata": {
        "execution": {
          "iopub.status.busy": "2023-11-28T12:26:28.742286Z",
          "iopub.execute_input": "2023-11-28T12:26:28.74348Z",
          "iopub.status.idle": "2023-11-28T12:26:28.990383Z",
          "shell.execute_reply.started": "2023-11-28T12:26:28.743392Z",
          "shell.execute_reply": "2023-11-28T12:26:28.988501Z"
        },
        "trusted": true,
        "id": "s6Sc4O8pqbhV"
      },
      "execution_count": null,
      "outputs": []
    },
    {
      "cell_type": "code",
      "source": [
        "submission = pd.DataFrame(columns = [\"ID\",\"total_amount\"])\n",
        "submission[\"ID\"] = [i for i in range(1,len(predictions)+1)]\n",
        "submission[\"total_amount\"] =predictions\n",
        "submission.to_csv('submission.csv',index=False)"
      ],
      "metadata": {
        "execution": {
          "iopub.status.busy": "2023-11-28T12:26:28.99297Z",
          "iopub.execute_input": "2023-11-28T12:26:28.993645Z",
          "iopub.status.idle": "2023-11-28T12:26:29.302657Z",
          "shell.execute_reply.started": "2023-11-28T12:26:28.99359Z",
          "shell.execute_reply": "2023-11-28T12:26:29.301564Z"
        },
        "trusted": true,
        "id": "crVhzIcSqbhV"
      },
      "execution_count": null,
      "outputs": []
    },
    {
      "cell_type": "code",
      "source": [
        "submission"
      ],
      "metadata": {
        "execution": {
          "iopub.status.busy": "2023-11-28T12:26:29.304086Z",
          "iopub.execute_input": "2023-11-28T12:26:29.304433Z",
          "iopub.status.idle": "2023-11-28T12:26:29.318183Z",
          "shell.execute_reply.started": "2023-11-28T12:26:29.304391Z",
          "shell.execute_reply": "2023-11-28T12:26:29.31696Z"
        },
        "trusted": true,
        "id": "E1jolFwaqbhV"
      },
      "execution_count": null,
      "outputs": []
    },
    {
      "cell_type": "markdown",
      "source": [
        "0.895795448815323# MODEL 4\n",
        "# Train the model with Random Forest regressor(Bagging Algo)\n",
        "# Hyperperameter tuning with GridsearchCV\n",
        "# R^2 Score: 0.895795448815323\n",
        "# Got score:0.88076"
      ],
      "metadata": {
        "id": "2eKHj2lxqbhV"
      }
    },
    {
      "cell_type": "code",
      "source": [
        "# Define the pipeline\n",
        "pipe_rfr = Pipeline([\n",
        "    ('ss', StandardScaler()),\n",
        "    ('poly', PolynomialFeatures(degree=2)),\n",
        "    ('pca', PCA(n_components=8)),\n",
        "    ('rfr', RandomForestRegressor(random_state=42))\n",
        "])"
      ],
      "metadata": {
        "execution": {
          "iopub.status.busy": "2023-11-28T12:26:29.33449Z",
          "iopub.execute_input": "2023-11-28T12:26:29.334919Z",
          "iopub.status.idle": "2023-11-28T12:26:29.34209Z",
          "shell.execute_reply.started": "2023-11-28T12:26:29.334886Z",
          "shell.execute_reply": "2023-11-28T12:26:29.340755Z"
        },
        "trusted": true,
        "id": "Bnqn8BEQqbhW"
      },
      "execution_count": null,
      "outputs": []
    },
    {
      "cell_type": "code",
      "source": [
        "param_grid_rfr = {\n",
        "    'rfr__n_estimators': [100, 200, 300],\n",
        "}"
      ],
      "metadata": {
        "execution": {
          "iopub.status.busy": "2023-11-28T12:26:29.343559Z",
          "iopub.execute_input": "2023-11-28T12:26:29.344031Z",
          "iopub.status.idle": "2023-11-28T12:26:29.35289Z",
          "shell.execute_reply.started": "2023-11-28T12:26:29.343998Z",
          "shell.execute_reply": "2023-11-28T12:26:29.351597Z"
        },
        "trusted": true,
        "id": "vNvCwqfdqbhW"
      },
      "execution_count": null,
      "outputs": []
    },
    {
      "cell_type": "code",
      "source": [
        "# Set up the GridSearchCV with a default parameter grid\n",
        "grid_search_rfr = GridSearchCV(estimator=pipe_rfr, param_grid=param_grid_rfr, cv=5, n_jobs=-1, scoring='neg_mean_squared_error', verbose=2)\n",
        "\n",
        "# Fit the GridSearchCV to the training data\n",
        "grid_search_rfr.fit(X_train, y_train)"
      ],
      "metadata": {
        "execution": {
          "iopub.status.busy": "2023-11-28T12:26:29.354154Z",
          "iopub.execute_input": "2023-11-28T12:26:29.354575Z",
          "iopub.status.idle": "2023-11-28T13:17:27.703286Z",
          "shell.execute_reply.started": "2023-11-28T12:26:29.354526Z",
          "shell.execute_reply": "2023-11-28T13:17:27.701753Z"
        },
        "trusted": true,
        "id": "h1HDjx1HqbhW"
      },
      "execution_count": null,
      "outputs": []
    },
    {
      "cell_type": "code",
      "source": [
        "# Predict on the validation set\n",
        "y_pred_val = grid_search_rfr.predict(X_val)\n",
        "\n",
        "# Calculate R^2 score\n",
        "r2 = r2_score(y_val, y_pred_val)\n",
        "print(f\"R^2 Score: {r2}\")"
      ],
      "metadata": {
        "execution": {
          "iopub.status.busy": "2023-11-28T13:17:27.705439Z",
          "iopub.execute_input": "2023-11-28T13:17:27.705924Z",
          "iopub.status.idle": "2023-11-28T13:17:35.881564Z",
          "shell.execute_reply.started": "2023-11-28T13:17:27.705874Z",
          "shell.execute_reply": "2023-11-28T13:17:35.880311Z"
        },
        "trusted": true,
        "id": "j2qs-dHhqbhW"
      },
      "execution_count": null,
      "outputs": []
    },
    {
      "cell_type": "code",
      "source": [
        "prediction_rfr = grid_search_rfr.predict(test_data)"
      ],
      "metadata": {
        "execution": {
          "iopub.status.busy": "2023-11-28T13:17:35.883069Z",
          "iopub.execute_input": "2023-11-28T13:17:35.883671Z",
          "iopub.status.idle": "2023-11-28T13:17:44.791423Z",
          "shell.execute_reply.started": "2023-11-28T13:17:35.883637Z",
          "shell.execute_reply": "2023-11-28T13:17:44.790255Z"
        },
        "trusted": true,
        "id": "Nh3BYbtNqbhW"
      },
      "execution_count": null,
      "outputs": []
    },
    {
      "cell_type": "code",
      "source": [
        "submission = pd.DataFrame(columns = [\"ID\",\"total_amount\"])\n",
        "submission[\"ID\"] = [i for i in range(1,len(prediction_rfr)+1)]\n",
        "submission[\"total_amount\"] =prediction_rfr\n",
        "submission.to_csv('submission.csv',index=False)"
      ],
      "metadata": {
        "execution": {
          "iopub.status.busy": "2023-11-28T13:17:44.792953Z",
          "iopub.execute_input": "2023-11-28T13:17:44.793314Z",
          "iopub.status.idle": "2023-11-28T13:17:45.069918Z",
          "shell.execute_reply.started": "2023-11-28T13:17:44.793282Z",
          "shell.execute_reply": "2023-11-28T13:17:45.068755Z"
        },
        "trusted": true,
        "id": "BfDLIUyGqbhW"
      },
      "execution_count": null,
      "outputs": []
    },
    {
      "cell_type": "code",
      "source": [
        "submission"
      ],
      "metadata": {
        "execution": {
          "iopub.status.busy": "2023-11-28T13:17:45.07137Z",
          "iopub.execute_input": "2023-11-28T13:17:45.071753Z",
          "iopub.status.idle": "2023-11-28T13:17:45.08734Z",
          "shell.execute_reply.started": "2023-11-28T13:17:45.071721Z",
          "shell.execute_reply": "2023-11-28T13:17:45.086064Z"
        },
        "trusted": true,
        "id": "f5dewBdVqbhW"
      },
      "execution_count": null,
      "outputs": []
    },
    {
      "cell_type": "markdown",
      "source": [
        "# MODEL 5\n",
        "# ExtraTreesRegressor\n",
        "# Hyperperameter tuning with GridsearchCV\n",
        "# R^2 Score: 0.9134102150234041\n",
        "# Got score:0.89369"
      ],
      "metadata": {
        "id": "DLhoOIyiqbhW"
      }
    },
    {
      "cell_type": "code",
      "source": [
        "from sklearn.ensemble import ExtraTreesRegressor"
      ],
      "metadata": {
        "execution": {
          "iopub.status.busy": "2023-11-28T13:17:45.088986Z",
          "iopub.execute_input": "2023-11-28T13:17:45.089582Z",
          "iopub.status.idle": "2023-11-28T13:17:45.096164Z",
          "shell.execute_reply.started": "2023-11-28T13:17:45.089547Z",
          "shell.execute_reply": "2023-11-28T13:17:45.095234Z"
        },
        "trusted": true,
        "id": "eabLkEC_qbhW"
      },
      "execution_count": null,
      "outputs": []
    },
    {
      "cell_type": "code",
      "source": [
        "pipe_etr = Pipeline([\n",
        "    ('ss', StandardScaler()),\n",
        "    ('poly', PolynomialFeatures(degree=2)),\n",
        "    ('pca', PCA(n_components=8)),\n",
        "    ('etr',ExtraTreesRegressor(random_state=42))\n",
        "])"
      ],
      "metadata": {
        "execution": {
          "iopub.status.busy": "2023-11-28T13:17:45.097822Z",
          "iopub.execute_input": "2023-11-28T13:17:45.098713Z",
          "iopub.status.idle": "2023-11-28T13:17:45.106451Z",
          "shell.execute_reply.started": "2023-11-28T13:17:45.098681Z",
          "shell.execute_reply": "2023-11-28T13:17:45.105443Z"
        },
        "trusted": true,
        "id": "iIVoweXdqbhW"
      },
      "execution_count": null,
      "outputs": []
    },
    {
      "cell_type": "code",
      "source": [
        "param_grid = {\n",
        "    'etr__n_estimators': [100, 200, 300]\n",
        "}"
      ],
      "metadata": {
        "execution": {
          "iopub.status.busy": "2023-11-28T13:17:45.107757Z",
          "iopub.execute_input": "2023-11-28T13:17:45.108102Z",
          "iopub.status.idle": "2023-11-28T13:17:45.117662Z",
          "shell.execute_reply.started": "2023-11-28T13:17:45.108072Z",
          "shell.execute_reply": "2023-11-28T13:17:45.116529Z"
        },
        "trusted": true,
        "id": "60n6RWihqbhX"
      },
      "execution_count": null,
      "outputs": []
    },
    {
      "cell_type": "code",
      "source": [
        "# GridSearchCV\n",
        "grid_search = GridSearchCV(estimator=pipe_etr, param_grid=param_grid, cv=5, n_jobs=-1, scoring='r2', verbose=2)\n",
        "grid_search.fit(X_train, y_train)"
      ],
      "metadata": {
        "execution": {
          "iopub.status.busy": "2023-11-28T13:17:45.119245Z",
          "iopub.execute_input": "2023-11-28T13:17:45.119612Z",
          "iopub.status.idle": "2023-11-28T13:29:17.770568Z",
          "shell.execute_reply.started": "2023-11-28T13:17:45.119583Z",
          "shell.execute_reply": "2023-11-28T13:29:17.768939Z"
        },
        "trusted": true,
        "id": "uhet3SF6qbhX"
      },
      "execution_count": null,
      "outputs": []
    },
    {
      "cell_type": "code",
      "source": [
        "# Best model\n",
        "best_model = grid_search.best_estimator_\n",
        "\n",
        "# Predict on validation set\n",
        "y_pred = best_model.predict(X_val)\n",
        "\n",
        "# R^2 Score\n",
        "r2 = r2_score(y_val, y_pred)\n",
        "print(f'R^2 Score: {r2}')"
      ],
      "metadata": {
        "execution": {
          "iopub.status.busy": "2023-11-28T13:29:17.773258Z",
          "iopub.execute_input": "2023-11-28T13:29:17.773818Z",
          "iopub.status.idle": "2023-11-28T13:29:25.8035Z",
          "shell.execute_reply.started": "2023-11-28T13:29:17.773761Z",
          "shell.execute_reply": "2023-11-28T13:29:25.802279Z"
        },
        "trusted": true,
        "id": "_5_YDV50qbhX"
      },
      "execution_count": null,
      "outputs": []
    },
    {
      "cell_type": "code",
      "source": [
        "# Generate predictions for the test set\n",
        "predictions_etr= best_model.predict(test_data)"
      ],
      "metadata": {
        "execution": {
          "iopub.status.busy": "2023-11-28T13:29:25.805129Z",
          "iopub.execute_input": "2023-11-28T13:29:25.805538Z",
          "iopub.status.idle": "2023-11-28T13:29:36.653847Z",
          "shell.execute_reply.started": "2023-11-28T13:29:25.805507Z",
          "shell.execute_reply": "2023-11-28T13:29:36.652887Z"
        },
        "trusted": true,
        "id": "K_2G9ZcFqbhX"
      },
      "execution_count": null,
      "outputs": []
    },
    {
      "cell_type": "code",
      "source": [
        "submission = pd.DataFrame(columns = [\"ID\",\"total_amount\"])\n",
        "submission[\"ID\"] = [i for i in range(1,len(predictions_etr)+1)]\n",
        "submission[\"total_amount\"] =predictions_etr\n",
        "submission.to_csv('submission.csv',index=False)"
      ],
      "metadata": {
        "execution": {
          "iopub.status.busy": "2023-11-28T13:29:36.655733Z",
          "iopub.execute_input": "2023-11-28T13:29:36.656643Z",
          "iopub.status.idle": "2023-11-28T13:29:36.934118Z",
          "shell.execute_reply.started": "2023-11-28T13:29:36.656601Z",
          "shell.execute_reply": "2023-11-28T13:29:36.932384Z"
        },
        "trusted": true,
        "id": "KR3-Jd-HqbhX"
      },
      "execution_count": null,
      "outputs": []
    },
    {
      "cell_type": "code",
      "source": [
        "submission"
      ],
      "metadata": {
        "execution": {
          "iopub.status.busy": "2023-11-28T13:29:36.935492Z",
          "iopub.execute_input": "2023-11-28T13:29:36.936338Z",
          "iopub.status.idle": "2023-11-28T13:29:36.949991Z",
          "shell.execute_reply.started": "2023-11-28T13:29:36.936305Z",
          "shell.execute_reply": "2023-11-28T13:29:36.94888Z"
        },
        "trusted": true,
        "id": "uGmRvQ9fqbhX"
      },
      "execution_count": null,
      "outputs": []
    },
    {
      "cell_type": "markdown",
      "source": [
        "# MODEL 6\n",
        "# Train the model with XGBoost (Extreme Gradient Boosting)\n",
        "# Hyperperameter tuning with GridsearchCV\n",
        "# R^2 Score: 0.8986797939172592\n",
        "# Got score: 0.87837"
      ],
      "metadata": {
        "id": "4uT_FfSXqbhX"
      }
    },
    {
      "cell_type": "code",
      "source": [
        "import xgboost as xgb"
      ],
      "metadata": {
        "execution": {
          "iopub.status.busy": "2023-11-28T13:29:36.951454Z",
          "iopub.execute_input": "2023-11-28T13:29:36.951806Z",
          "iopub.status.idle": "2023-11-28T13:29:37.140487Z",
          "shell.execute_reply.started": "2023-11-28T13:29:36.951776Z",
          "shell.execute_reply": "2023-11-28T13:29:37.139202Z"
        },
        "trusted": true,
        "id": "E6r9T-MtqbhY"
      },
      "execution_count": null,
      "outputs": []
    },
    {
      "cell_type": "code",
      "source": [
        "# Creating a pipe with standard scaler, polynomial features of degree 2 and DecisionTreeRegressor\n",
        "PIPELINE_XGB = Pipeline([ ('ss', StandardScaler()), ('poly',PolynomialFeatures(degree= 2)),('pca',PCA(n_components = 8)),('XGB', xgb.XGBRegressor(objective='reg:squarederror', random_state=42)) ])"
      ],
      "metadata": {
        "execution": {
          "iopub.status.busy": "2023-11-28T13:29:37.142259Z",
          "iopub.execute_input": "2023-11-28T13:29:37.143063Z",
          "iopub.status.idle": "2023-11-28T13:29:37.150871Z",
          "shell.execute_reply.started": "2023-11-28T13:29:37.143018Z",
          "shell.execute_reply": "2023-11-28T13:29:37.149069Z"
        },
        "trusted": true,
        "id": "OxIj-UeXqbhY"
      },
      "execution_count": null,
      "outputs": []
    },
    {
      "cell_type": "code",
      "source": [
        "param_grid = {\n",
        "    'XGB__n_estimators': [100, 200, 300]\n",
        "}"
      ],
      "metadata": {
        "execution": {
          "iopub.status.busy": "2023-11-28T13:29:37.153389Z",
          "iopub.execute_input": "2023-11-28T13:29:37.154189Z",
          "iopub.status.idle": "2023-11-28T13:29:37.162223Z",
          "shell.execute_reply.started": "2023-11-28T13:29:37.154143Z",
          "shell.execute_reply": "2023-11-28T13:29:37.160754Z"
        },
        "trusted": true,
        "id": "qj7n64lLqbhY"
      },
      "execution_count": null,
      "outputs": []
    },
    {
      "cell_type": "code",
      "source": [
        "# GridSearchCV\n",
        "grid_search = GridSearchCV(estimator=PIPELINE_XGB, param_grid=param_grid, cv=5, n_jobs=-1, scoring='neg_mean_squared_error', verbose=2)\n",
        "grid_search.fit(X_train, y_train)\n"
      ],
      "metadata": {
        "execution": {
          "iopub.status.busy": "2023-11-28T13:29:37.164162Z",
          "iopub.execute_input": "2023-11-28T13:29:37.165217Z",
          "iopub.status.idle": "2023-11-28T13:36:23.405001Z",
          "shell.execute_reply.started": "2023-11-28T13:29:37.165162Z",
          "shell.execute_reply": "2023-11-28T13:36:23.40357Z"
        },
        "trusted": true,
        "id": "ewYM_G1XqbhY"
      },
      "execution_count": null,
      "outputs": []
    },
    {
      "cell_type": "code",
      "source": [
        "# Best estimator\n",
        "best_estimator = grid_search.best_estimator_\n",
        "\n",
        "# Making predictions on the validation set\n",
        "y_pred_val = best_estimator.predict(X_val)"
      ],
      "metadata": {
        "execution": {
          "iopub.status.busy": "2023-11-28T13:36:23.406315Z",
          "iopub.execute_input": "2023-11-28T13:36:23.406689Z",
          "iopub.status.idle": "2023-11-28T13:36:23.7155Z",
          "shell.execute_reply.started": "2023-11-28T13:36:23.406659Z",
          "shell.execute_reply": "2023-11-28T13:36:23.714492Z"
        },
        "trusted": true,
        "id": "fYMbS__fqbhY"
      },
      "execution_count": null,
      "outputs": []
    },
    {
      "cell_type": "code",
      "source": [
        "# Calculating R2 score\n",
        "r2 = r2_score(y_val, y_pred_val)\n",
        "print(f\"R2 score on the validation set: {r2}\")"
      ],
      "metadata": {
        "execution": {
          "iopub.status.busy": "2023-11-28T13:36:23.71758Z",
          "iopub.execute_input": "2023-11-28T13:36:23.718546Z",
          "iopub.status.idle": "2023-11-28T13:36:23.729121Z",
          "shell.execute_reply.started": "2023-11-28T13:36:23.718499Z",
          "shell.execute_reply": "2023-11-28T13:36:23.727929Z"
        },
        "trusted": true,
        "id": "MAjdTEdUqbhY"
      },
      "execution_count": null,
      "outputs": []
    },
    {
      "cell_type": "code",
      "source": [
        "# Make predictions on the test data\n",
        "predictions_xgb = best_estimator.predict(test_data)"
      ],
      "metadata": {
        "execution": {
          "iopub.status.busy": "2023-11-28T13:36:23.731302Z",
          "iopub.execute_input": "2023-11-28T13:36:23.731727Z",
          "iopub.status.idle": "2023-11-28T13:36:24.135075Z",
          "shell.execute_reply.started": "2023-11-28T13:36:23.731686Z",
          "shell.execute_reply": "2023-11-28T13:36:24.134113Z"
        },
        "trusted": true,
        "id": "VBT1OJ0eqbhY"
      },
      "execution_count": null,
      "outputs": []
    },
    {
      "cell_type": "code",
      "source": [
        "submission = pd.DataFrame(columns = [\"ID\",\"total_amount\"])\n",
        "submission[\"ID\"] = [i for i in range(1,len(predictions_xgb)+1)]\n",
        "submission[\"total_amount\"] =predictions_xgb\n",
        "submission.to_csv('submission.csv',index=False)"
      ],
      "metadata": {
        "execution": {
          "iopub.status.busy": "2023-11-28T13:36:24.139881Z",
          "iopub.execute_input": "2023-11-28T13:36:24.143025Z",
          "iopub.status.idle": "2023-11-28T13:36:24.380025Z",
          "shell.execute_reply.started": "2023-11-28T13:36:24.142971Z",
          "shell.execute_reply": "2023-11-28T13:36:24.379151Z"
        },
        "trusted": true,
        "id": "B4veZRMyqbhZ"
      },
      "execution_count": null,
      "outputs": []
    },
    {
      "cell_type": "code",
      "source": [
        "submission"
      ],
      "metadata": {
        "execution": {
          "iopub.status.busy": "2023-11-28T13:36:24.381369Z",
          "iopub.execute_input": "2023-11-28T13:36:24.382317Z",
          "iopub.status.idle": "2023-11-28T13:36:24.395864Z",
          "shell.execute_reply.started": "2023-11-28T13:36:24.382282Z",
          "shell.execute_reply": "2023-11-28T13:36:24.394736Z"
        },
        "trusted": true,
        "id": "_QsDSSugqbhZ"
      },
      "execution_count": null,
      "outputs": []
    },
    {
      "cell_type": "markdown",
      "source": [
        "# MODEL 7\n",
        "# MLP Model(Multilayer perceptron model)\n",
        "# Hyperperameter tuning with GridsearchCV\n",
        "# R^2 Score: 0.943500910034381\n",
        "# Got score:0.91468\n",
        "\n"
      ],
      "metadata": {
        "id": "GqtTTf-tqbhZ"
      }
    },
    {
      "cell_type": "code",
      "source": [
        "from sklearn.neural_network import MLPRegressor"
      ],
      "metadata": {
        "execution": {
          "iopub.status.busy": "2023-11-28T13:36:24.397144Z",
          "iopub.execute_input": "2023-11-28T13:36:24.397704Z",
          "iopub.status.idle": "2023-11-28T13:36:24.42713Z",
          "shell.execute_reply.started": "2023-11-28T13:36:24.397672Z",
          "shell.execute_reply": "2023-11-28T13:36:24.426167Z"
        },
        "trusted": true,
        "id": "rnLmunZ5qbhZ"
      },
      "execution_count": null,
      "outputs": []
    },
    {
      "cell_type": "code",
      "source": [
        "pipe_mlp = Pipeline([\n",
        "    ('scaler', StandardScaler()),\n",
        "    ('mlp', MLPRegressor(random_state=42))\n",
        "])"
      ],
      "metadata": {
        "execution": {
          "iopub.status.busy": "2023-11-28T13:36:24.428573Z",
          "iopub.execute_input": "2023-11-28T13:36:24.429215Z",
          "iopub.status.idle": "2023-11-28T13:36:24.435068Z",
          "shell.execute_reply.started": "2023-11-28T13:36:24.429172Z",
          "shell.execute_reply": "2023-11-28T13:36:24.433824Z"
        },
        "trusted": true,
        "id": "dAk08zKmqbhZ"
      },
      "execution_count": null,
      "outputs": []
    },
    {
      "cell_type": "code",
      "source": [
        "param_grid = {\n",
        "    'mlp__activation': ['relu', 'tanh'],\n",
        "}"
      ],
      "metadata": {
        "execution": {
          "iopub.status.busy": "2023-11-28T13:36:24.437077Z",
          "iopub.execute_input": "2023-11-28T13:36:24.437624Z",
          "iopub.status.idle": "2023-11-28T13:36:24.445701Z",
          "shell.execute_reply.started": "2023-11-28T13:36:24.437582Z",
          "shell.execute_reply": "2023-11-28T13:36:24.444485Z"
        },
        "trusted": true,
        "id": "oECkrGZfqbhZ"
      },
      "execution_count": null,
      "outputs": []
    },
    {
      "cell_type": "code",
      "source": [
        "grid_search = GridSearchCV(estimator=pipe_mlp, param_grid=param_grid, cv=5, n_jobs=-1, verbose=2, scoring='neg_mean_squared_error')"
      ],
      "metadata": {
        "execution": {
          "iopub.status.busy": "2023-11-28T13:36:24.44749Z",
          "iopub.execute_input": "2023-11-28T13:36:24.447884Z",
          "iopub.status.idle": "2023-11-28T13:36:24.459234Z",
          "shell.execute_reply.started": "2023-11-28T13:36:24.447852Z",
          "shell.execute_reply": "2023-11-28T13:36:24.458064Z"
        },
        "trusted": true,
        "id": "WwItlTXWqbhZ"
      },
      "execution_count": null,
      "outputs": []
    },
    {
      "cell_type": "code",
      "source": [
        "# Train the model\n",
        "grid_search.fit(X_train, y_train)\n",
        "\n",
        "# Print best parameters\n",
        "print(\"Best parameters found: \", grid_search.best_params_)\n"
      ],
      "metadata": {
        "execution": {
          "iopub.status.busy": "2023-11-28T13:36:24.461133Z",
          "iopub.execute_input": "2023-11-28T13:36:24.461841Z",
          "iopub.status.idle": "2023-11-28T13:55:54.930699Z",
          "shell.execute_reply.started": "2023-11-28T13:36:24.461806Z",
          "shell.execute_reply": "2023-11-28T13:55:54.929517Z"
        },
        "trusted": true,
        "id": "T24Id5-pqbhZ"
      },
      "execution_count": null,
      "outputs": []
    },
    {
      "cell_type": "code",
      "source": [
        "# Predictions on test set\n",
        "y_pred = grid_search.predict(X_val)\n",
        "\n",
        "# Calculate R2 score\n",
        "r2 = r2_score(y_val, y_pred)\n",
        "print(\"R2 score: \", r2)\n"
      ],
      "metadata": {
        "execution": {
          "iopub.status.busy": "2023-11-28T13:55:54.932218Z",
          "iopub.execute_input": "2023-11-28T13:55:54.932998Z",
          "iopub.status.idle": "2023-11-28T13:55:55.216934Z",
          "shell.execute_reply.started": "2023-11-28T13:55:54.932955Z",
          "shell.execute_reply": "2023-11-28T13:55:55.21514Z"
        },
        "trusted": true,
        "id": "X7BC1TirqbhZ"
      },
      "execution_count": null,
      "outputs": []
    },
    {
      "cell_type": "code",
      "source": [
        "predictions_mlp = grid_search.predict(test_data)"
      ],
      "metadata": {
        "execution": {
          "iopub.status.busy": "2023-11-28T13:55:55.219047Z",
          "iopub.execute_input": "2023-11-28T13:55:55.219703Z",
          "iopub.status.idle": "2023-11-28T13:55:55.59658Z",
          "shell.execute_reply.started": "2023-11-28T13:55:55.219653Z",
          "shell.execute_reply": "2023-11-28T13:55:55.594632Z"
        },
        "trusted": true,
        "id": "M4F26H07qbha"
      },
      "execution_count": null,
      "outputs": []
    },
    {
      "cell_type": "code",
      "source": [
        "submission = pd.DataFrame(columns = [\"ID\",\"total_amount\"])\n",
        "submission[\"ID\"] = [i for i in range(1,len(predictions_mlp)+1)]\n",
        "submission[\"total_amount\"] =predictions_mlp\n",
        "submission.to_csv('submission.csv',index=False)"
      ],
      "metadata": {
        "execution": {
          "iopub.status.busy": "2023-11-28T13:55:55.598927Z",
          "iopub.execute_input": "2023-11-28T13:55:55.599607Z",
          "iopub.status.idle": "2023-11-28T13:55:55.925653Z",
          "shell.execute_reply.started": "2023-11-28T13:55:55.599561Z",
          "shell.execute_reply": "2023-11-28T13:55:55.924227Z"
        },
        "trusted": true,
        "id": "QWWW1NPQqbha"
      },
      "execution_count": null,
      "outputs": []
    },
    {
      "cell_type": "code",
      "source": [
        "submission"
      ],
      "metadata": {
        "execution": {
          "iopub.status.busy": "2023-11-28T13:55:55.926933Z",
          "iopub.execute_input": "2023-11-28T13:55:55.927285Z",
          "iopub.status.idle": "2023-11-28T13:55:55.940049Z",
          "shell.execute_reply.started": "2023-11-28T13:55:55.927255Z",
          "shell.execute_reply": "2023-11-28T13:55:55.938916Z"
        },
        "trusted": true,
        "id": "YV0Gp74hqbha"
      },
      "execution_count": null,
      "outputs": []
    },
    {
      "cell_type": "markdown",
      "source": [
        "# **MLP Model(Multilayer perceptron model)showed the best score which is 0.91468**\n",
        "# **R^2 Score: 0.943500910034381**"
      ],
      "metadata": {
        "id": "u9-QfjXVqbha"
      }
    }
  ]
}